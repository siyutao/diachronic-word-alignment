{
  "nbformat": 4,
  "nbformat_minor": 0,
  "metadata": {
    "language_info": {
      "codemirror_mode": {
        "name": "ipython",
        "version": 3
      },
      "file_extension": ".py",
      "mimetype": "text/x-python",
      "name": "python",
      "nbconvert_exporter": "python",
      "pygments_lexer": "ipython3",
      "version": "3.7.9-final"
    },
    "orig_nbformat": 2,
    "kernelspec": {
      "name": "python3",
      "display_name": "Python 3.7.9 64-bit ('base': conda)",
      "metadata": {
        "interpreter": {
          "hash": "78a3dceef489575270a83885d20070fa629683a4a35f49c0587b2557b1a9841f"
        }
      }
    },
    "colab": {
      "name": "notebook.ipynb",
      "provenance": [],
      "collapsed_sections": [
        "CvxmIdJyXhhW"
      ]
    }
  },
  "cells": [
    {
      "cell_type": "markdown",
      "metadata": {
        "id": "Z3Dw8taLXhg6"
      },
      "source": [
        "# Final Project\n",
        "## Computational Linguistics (Winter semester 2020/21, Prof. Dr. Alexander Koller)\n",
        "## Siyu Tao"
      ]
    },
    {
      "cell_type": "markdown",
      "metadata": {
        "id": "TCXS_DF4XhhS"
      },
      "source": [
        "### Environment Setup"
      ]
    },
    {
      "cell_type": "code",
      "metadata": {
        "id": "IcmlamHrXhhV"
      },
      "source": [
        "# adding ./bin to system path\n",
        "import sys\n",
        "import os\n",
        "sys.path.insert(0, os.path.abspath('./bin'))\n",
        "from preprocessing import Preprocessor\n",
        "# standard IBM model 1\n",
        "from model1 import Model1\n",
        "# models extended with edit-distance\n",
        "from ed_models import ED_Model1"
      ],
      "execution_count": null,
      "outputs": []
    },
    {
      "cell_type": "markdown",
      "metadata": {
        "id": "CvxmIdJyXhhW"
      },
      "source": [
        "## Preprocessing"
      ]
    },
    {
      "cell_type": "markdown",
      "metadata": {
        "id": "vpcgqwX2XhhX"
      },
      "source": [
        "### Download and Prepare Corpus"
      ]
    },
    {
      "cell_type": "code",
      "metadata": {
        "id": "wdI0OqWuXhhX",
        "outputId": "94d3fd50-178b-4cce-db5c-98627214aa1d"
      },
      "source": [
        "! wget http://demo.spraakdata.gu.se/gerlof/OpenEDGeS/OpenEDGeS_v1.0.0.zip\n",
        "! unzip OpenEDGeS_v1.0.0.zip -d data/ && rm OpenEDGeS_v1.0.0.zip"
      ],
      "execution_count": null,
      "outputs": []
    },
    {
      "cell_type": "markdown",
      "metadata": {
        "id": "SZIsBVg2XhhY"
      },
      "source": [
        "### Code for Processing the Entire Corpus\n",
        "Uncomment and run this code block in order to process **THE ENTIRE COPRUS**, not necessary for our experiment / eval"
      ]
    },
    {
      "cell_type": "code",
      "metadata": {
        "tags": [],
        "id": "R928HLqBXhhY"
      },
      "source": [
        "# UNCOMMENT block below to process all data\n",
        "# path_to_corpus = \"data/OpenEDGeS/\"\n",
        "# path_to_processed_data = \"data/processed/\"\n",
        "# preprocessor = Preprocessor(path_to_corpus, path_to_processed_data)\n",
        "# path_to_sentence_alignments = \"data/OpenEDGeS/Alignments/\"\n",
        "# for root, dirs, files in os.walk(path_to_sentence_alignments):\n",
        "#     files = [ fi for fi in files if fi.endswith(\".tsv\")]\n",
        "#     for file in files:\n",
        "#         preprocessor.process(os.path.join(root,file), verbose = False)"
      ],
      "execution_count": null,
      "outputs": []
    },
    {
      "cell_type": "markdown",
      "metadata": {
        "id": "ZNRj6lg7XhhZ"
      },
      "source": [
        "### Processing the three pairs of texts, for which we have gold alignment labels\n",
        "- de_1781_Rosalino-de_1871_Elberfelder\n",
        "- de_1871_Elberfelder-en_1890_Darby\n",
        "- en_1611_KJV-en_1890_Darby"
      ]
    },
    {
      "cell_type": "code",
      "metadata": {
        "id": "xTp3gZh6XhhZ",
        "outputId": "97b9d869-de82-4397-9bcf-1f51272b5b25"
      },
      "source": [
        "path_to_corpus = \"data/OpenEDGeS/\"\n",
        "path_to_processed_data = \"data/eval/\"\n",
        "# initialize the preprocessor with in- and output paths\n",
        "preprocessor = Preprocessor(path_to_corpus, path_to_processed_data)\n",
        "testset = ['data/OpenEDGeS/Alignments/de-de/de_1781_Rosalino-de_1871_Elberfelder.tsv', 'data/OpenEDGeS/Alignments/de-en/de_1871_Elberfelder-en_1890_Darby.tsv', 'data/OpenEDGeS/Alignments/en-en/en_1611_KJV-en_1890_Darby.tsv']\n",
        "for alignment_file in testset:\n",
        "    preprocessor.process(alignment_file)"
      ],
      "execution_count": null,
      "outputs": []
    },
    {
      "cell_type": "markdown",
      "metadata": {
        "id": "TI_NnUPcXhhZ"
      },
      "source": [
        "## Baseline: Standard IBM Model 1"
      ]
    },
    {
      "cell_type": "markdown",
      "metadata": {
        "id": "9jCMdlTnXhha"
      },
      "source": [
        "### DE-DE"
      ]
    },
    {
      "cell_type": "code",
      "metadata": {
        "colab": {
          "base_uri": "https://localhost:8080/"
        },
        "id": "61dccVs_Xhha",
        "outputId": "d76209cd-145b-4fee-a247-8af25d41c6f3"
      },
      "source": [
        "aligner = Model1(d = 'data/eval/de-de/de_1781_Rosalino-de_1871_Elberfelder/text')\n",
        "aligner.em_training(num_iter = 5)"
      ],
      "execution_count": null,
      "outputs": []
    },
    {
      "cell_type": "code",
      "metadata": {
        "tags": [],
        "colab": {
          "base_uri": "https://localhost:8080/"
        },
        "id": "lvhJtoPzXhhb",
        "outputId": "296329fd-33ae-4ce2-997e-7c12cfe50088"
      },
      "source": [
        "aligner.align(out = \"./output/de-de_ibm1.a\", n = 15)\n",
        "! python ./bin/score-alignments -d 'data/eval/de-de/de_1781_Rosalino-de_1871_Elberfelder/text' -n 0  < ./output/de-de_ibm1.a\n",
        "# Output\n",
        "! echo \"\\nStandard IBM Model 1, DE-DE\" >> ./output/summary.info\n",
        "! python ./bin/score-alignments -d 'data/eval/de-de/de_1781_Rosalino-de_1871_Elberfelder/text' -n 0 < ./output/de-de_ibm1.a >> ./output/summary.info\n",
        "! python ./bin/score-alignments -d 'data/eval/de-de/de_1781_Rosalino-de_1871_Elberfelder/text' < ./output/de-de_ibm1.a > ./output/de-de_ibm1.log"
      ],
      "execution_count": null,
      "outputs": []
    },
    {
      "cell_type": "markdown",
      "metadata": {
        "id": "kWTTz9ObXhhd"
      },
      "source": [
        "### EN-EN"
      ]
    },
    {
      "cell_type": "code",
      "metadata": {
        "colab": {
          "base_uri": "https://localhost:8080/"
        },
        "id": "DkV80fTyXhhd",
        "outputId": "2c30579b-17ba-41bc-ea3d-cafc85e36618"
      },
      "source": [
        "aligner = Model1(d = 'data/eval/en-en/en_1611_KJV-en_1890_Darby/text')\n",
        "aligner.em_training(num_iter = 5)"
      ],
      "execution_count": null,
      "outputs": []
    },
    {
      "cell_type": "code",
      "metadata": {
        "id": "e7p53QeIXhhe"
      },
      "source": [
        "aligner.align(out = \"./output/en-en_ibm1.a\", n = 15)\n",
        "! python ./bin/score-alignments -d 'data/eval/en-en/en_1611_KJV-en_1890_Darby/text' -n 0  < ./output/en-en_ibm1.a\n",
        "# Output\n",
        "! echo \"\\nStandard IBM Model 1, EN-EN\" >> ./output/summary.info\n",
        "! python ./bin/score-alignments -d 'data/eval/en-en/en_1611_KJV-en_1890_Darby/text' -n 0 < ./output/en-en_ibm1.a >> ./output/summary.info\n",
        "! python./bin/score-alignments -d 'data/eval/en-en/en_1611_KJV-en_1890_Darby/text' < ./output/en-en_ibm1.a > ./output/en-en_ibm1.log"
      ],
      "execution_count": null,
      "outputs": []
    },
    {
      "cell_type": "markdown",
      "metadata": {
        "id": "2XNFv6E7Xhhe"
      },
      "source": [
        "### DE-EN"
      ]
    },
    {
      "cell_type": "code",
      "metadata": {
        "id": "q6eah2ZYXhhe"
      },
      "source": [
        "aligner = Model1(d = 'data/eval/de-en/de_1871_Elberfelder-en_1890_Darby/text')\n",
        "aligner.em_training(num_iter = 5)"
      ],
      "execution_count": null,
      "outputs": []
    },
    {
      "cell_type": "code",
      "metadata": {
        "id": "fVpP8rM_Xhhf"
      },
      "source": [
        "aligner.align(out = \"./output/de-en_ibm1.a\", n = 15)\n",
        "! python ./bin/score-alignments -d 'data/eval/de-en/de_1871_Elberfelder-en_1890_Darby/text' -n 0  < ./output/de-en_ibm1.a\n",
        "# Output\n",
        "! echo \"\\nStandard IBM Model 1, DE-EN\" >> ./output/summary.info\n",
        "! python ./bin/score-alignments -d 'data/eval/de-en/de_1871_Elberfelder-en_1890_Darby/text' -n 0 < ./output/de-en_ibm1.a >> ./output/summary.info\n",
        "! python ./bin/score-alignments -d 'data/eval/de-en/de_1871_Elberfelder-en_1890_Darby/text' < ./output/de-en_ibm1.a > ./output/de-en_ibm1.log"
      ],
      "execution_count": null,
      "outputs": []
    },
    {
      "cell_type": "markdown",
      "metadata": {
        "id": "2DxzvcScZsZX"
      },
      "source": [
        "## Method 1: Heuristic Initialization"
      ]
    },
    {
      "cell_type": "markdown",
      "metadata": {
        "id": "VZTJu-efXhhf"
      },
      "source": [
        "### Install `editdistance` package for a more efficient implementation of edit distance"
      ]
    },
    {
      "cell_type": "code",
      "metadata": {
        "colab": {
          "base_uri": "https://localhost:8080/"
        },
        "id": "PBt5lVpoXhhf",
        "outputId": "84bbf783-1aaf-4527-d5f9-c1012e715790"
      },
      "source": [
        "! pip install editdistance"
      ],
      "execution_count": null,
      "outputs": []
    },
    {
      "cell_type": "markdown",
      "metadata": {
        "id": "kVqcX8hBZsZg"
      },
      "source": [
        "### DE-DE"
      ]
    },
    {
      "cell_type": "code",
      "metadata": {
        "colab": {
          "base_uri": "https://localhost:8080/"
        },
        "id": "ZrZK3ww2ZsZh",
        "outputId": "70a434f9-18a8-410b-c0f8-78e96ce54edc"
      },
      "source": [
        "aligner = ED_Model1(d = \"data/eval/de-de/de_1781_Rosalino-de_1871_Elberfelder/text\", ed_heuristic = True)\n",
        "aligner.em_training(num_iter = 5)"
      ],
      "execution_count": null,
      "outputs": []
    },
    {
      "cell_type": "code",
      "metadata": {
        "tags": [],
        "colab": {
          "base_uri": "https://localhost:8080/"
        },
        "id": "pYkw7_QQZsZi",
        "outputId": "f130624c-9e7a-402a-f465-84227249def5"
      },
      "source": [
        "aligner.align(out = \"./output/de-de_ed1.a\", n = 15)\n",
        "! python ./bin/score-alignments -d 'data/eval/de-de/de_1781_Rosalino-de_1871_Elberfelder/text' -n 0  < ./output/de-de_ed1.a\n",
        "# Output\n",
        "! echo \"\\nModel 1 with ED Heuristic, DE-DE\" >> ./output/summary.info\n",
        "! python ./bin/score-alignments -d 'data/eval/de-de/de_1781_Rosalino-de_1871_Elberfelder/text' -n 0 < ./output/de-de_ed1.a >> ./output/summary.info\n",
        "! python ./bin/score-alignments -d 'data/eval/de-de/de_1781_Rosalino-de_1871_Elberfelder/text' < ./output/de-de_ed1.a > ./output/de-de_ed1.log"
      ],
      "execution_count": null,
      "outputs": []
    },
    {
      "cell_type": "markdown",
      "metadata": {
        "id": "D-uRsRe9ZsZj"
      },
      "source": [
        "### EN-EN"
      ]
    },
    {
      "cell_type": "code",
      "metadata": {
        "colab": {
          "base_uri": "https://localhost:8080/"
        },
        "id": "sEW8dbv6ZsZj",
        "outputId": "696a2265-3603-4498-fac6-ef92dbdcf173"
      },
      "source": [
        "aligner = ED_Model1(d = 'data/eval/en-en/en_1611_KJV-en_1890_Darby/text', ed_heuristic = True)\n",
        "aligner.em_training(num_iter = 5)"
      ],
      "execution_count": null,
      "outputs": []
    },
    {
      "cell_type": "code",
      "metadata": {
        "id": "UqriOtK_ZsZj"
      },
      "source": [
        "aligner.align(out = \"./output/en-en_ed1.a\", n = 15)\n",
        "! python ./bin/score-alignments -d 'data/eval/en-en/en_1611_KJV-en_1890_Darby/text' -n 0  < ./output/en-en_ed1.a\n",
        "# Output\n",
        "! echo \"\\nModel 1 with ED Heuristic, EN-EN\" >> ./output/summary.info\n",
        "! python ./bin/score-alignments -d 'data/eval/en-en/en_1611_KJV-en_1890_Darby/text' -n 0 < ./output/en-en_ed1.a >> ./output/summary.info\n",
        "! python./bin/score-alignments -d 'data/eval/en-en/en_1611_KJV-en_1890_Darby/text' < ./output/en-en_ed1.a > ./output/en-en_ed1.log"
      ],
      "execution_count": null,
      "outputs": []
    },
    {
      "cell_type": "markdown",
      "metadata": {
        "id": "sOvOxmmiZsZm"
      },
      "source": [
        "### DE-EN"
      ]
    },
    {
      "cell_type": "code",
      "metadata": {
        "id": "ax9onN2vZsZm"
      },
      "source": [
        "aligner = ED_Model1(d = 'data/eval/de-en/de_1871_Elberfelder-en_1890_Darby/text', ed_heuristic = True)\n",
        "aligner.em_training(num_iter = 5)"
      ],
      "execution_count": null,
      "outputs": []
    },
    {
      "cell_type": "code",
      "metadata": {
        "id": "4iMU9Pe4ZsZn"
      },
      "source": [
        "aligner.align(out = \"./output/de-en_ed1.a\", n = 15)\n",
        "! python ./bin/score-alignments -d 'data/eval/de-en/de_1871_Elberfelder-en_1890_Darby/text' -n 0  < ./output/de-en_ed1.a\n",
        "# Output\n",
        "! echo \"\\nModel 1 with ED Heuristic, DE-EN\" >> ./output/summary.info\n",
        "! python ./bin/score-alignments -d 'data/eval/de-en/de_1871_Elberfelder-en_1890_Darby/text' -n 0 < ./output/de-en_ed1.a >> ./output/summary.info\n",
        "! python ./bin/score-alignments -d 'data/eval/de-en/de_1871_Elberfelder-en_1890_Darby/text' < ./output/de-en_ed1.a > ./output/de-en_ed1.log"
      ],
      "execution_count": null,
      "outputs": []
    },
    {
      "cell_type": "markdown",
      "metadata": {
        "id": "WRNl7kCCbtrU"
      },
      "source": [
        "## Method 2: Modified Decoding"
      ]
    },
    {
      "cell_type": "markdown",
      "metadata": {
        "id": "-4ZXOltobtrj"
      },
      "source": [
        "### DE-DE"
      ]
    },
    {
      "cell_type": "code",
      "metadata": {
        "colab": {
          "base_uri": "https://localhost:8080/"
        },
        "id": "uhsjLKHYbtrk",
        "outputId": "70a434f9-18a8-410b-c0f8-78e96ce54edc"
      },
      "source": [
        "aligner = ED_Model1(d = \"data/eval/de-de/de_1781_Rosalino-de_1871_Elberfelder/text\", ed_decode = True)\n",
        "aligner.em_training(num_iter = 5)"
      ],
      "execution_count": null,
      "outputs": []
    },
    {
      "cell_type": "code",
      "metadata": {
        "tags": [],
        "colab": {
          "base_uri": "https://localhost:8080/"
        },
        "id": "lKZCIs9Obtrk",
        "outputId": "f130624c-9e7a-402a-f465-84227249def5"
      },
      "source": [
        "aligner.align(out = \"./output/de-de_ed2.a\", n = 15)\n",
        "! python ./bin/score-alignments -d 'data/eval/de-de/de_1781_Rosalino-de_1871_Elberfelder/text' -n 0  < ./output/de-de_ed2.a\n",
        "# Output\n",
        "! echo \"\\nModel 1 with ED Decoding, DE-DE\" >> ./output/summary.info\n",
        "! python ./bin/score-alignments -d 'data/eval/de-de/de_1781_Rosalino-de_1871_Elberfelder/text' -n 0 < ./output/de-de_ed2.a >> ./output/summary.info\n",
        "! python ./bin/score-alignments -d 'data/eval/de-de/de_1781_Rosalino-de_1871_Elberfelder/text' < ./output/de-de_ed2.a > ./output/de-de_ed2.log"
      ],
      "execution_count": null,
      "outputs": []
    },
    {
      "cell_type": "markdown",
      "metadata": {
        "id": "iYpA66BKbtrk"
      },
      "source": [
        "### EN-EN"
      ]
    },
    {
      "cell_type": "code",
      "metadata": {
        "colab": {
          "base_uri": "https://localhost:8080/"
        },
        "id": "7ksTQH9ibtrl",
        "outputId": "696a2265-3603-4498-fac6-ef92dbdcf173"
      },
      "source": [
        "aligner = ED_Model1(d = 'data/eval/en-en/en_1611_KJV-en_1890_Darby/text', ed_decode = True)\n",
        "aligner.em_training(num_iter = 5)"
      ],
      "execution_count": null,
      "outputs": []
    },
    {
      "cell_type": "code",
      "metadata": {
        "id": "SUdLbQ2cbtrl"
      },
      "source": [
        "aligner.align(out = \"./output/en-en_ed2.a\", n = 15)\n",
        "! python ./bin/score-alignments -d 'data/eval/en-en/en_1611_KJV-en_1890_Darby/text' -n 0  < ./output/en-en_ed2.a\n",
        "# Output\n",
        "! echo \"\\nModel 1 with ED Decoding, EN-EN\" >> ./output/summary.info\n",
        "! python ./bin/score-alignments -d 'data/eval/en-en/en_1611_KJV-en_1890_Darby/text' -n 0 < ./output/en-en_ed2.a >> ./output/summary.info\n",
        "! python./bin/score-alignments -d 'data/eval/en-en/en_1611_KJV-en_1890_Darby/text' < ./output/en-en_ed2.a > ./output/en-en_ed2.log"
      ],
      "execution_count": null,
      "outputs": []
    },
    {
      "cell_type": "markdown",
      "metadata": {
        "id": "W2Cby6Pmbtrl"
      },
      "source": [
        "### DE-EN"
      ]
    },
    {
      "cell_type": "code",
      "metadata": {
        "id": "7_f5SadDbtrm"
      },
      "source": [
        "aligner = ED_Model1(d = 'data/eval/de-en/de_1871_Elberfelder-en_1890_Darby/text', ed_decode = True)\n",
        "aligner.em_training(num_iter = 5)"
      ],
      "execution_count": null,
      "outputs": []
    },
    {
      "cell_type": "code",
      "metadata": {
        "id": "1US3LebCbtrm"
      },
      "source": [
        "aligner.align(out = \"./output/de-en_ed2.a\", n = 15)\n",
        "! python ./bin/score-alignments -d 'data/eval/de-en/de_1871_Elberfelder-en_1890_Darby/text' -n 0  < ./output/de-en_ed2.a\n",
        "# Output\n",
        "! echo \"\\nModel 1 with ED Decoding, DE-EN\" >> ./output/summary.info\n",
        "! python ./bin/score-alignments -d 'data/eval/de-en/de_1871_Elberfelder-en_1890_Darby/text' -n 0 < ./output/de-en_ed2.a >> ./output/summary.info\n",
        "! python ./bin/score-alignments -d 'data/eval/de-en/de_1871_Elberfelder-en_1890_Darby/text' < ./output/de-en_ed2.a > ./output/de-en_ed2.log"
      ],
      "execution_count": null,
      "outputs": []
    }
  ]
}