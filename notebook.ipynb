{
 "metadata": {
  "language_info": {
   "codemirror_mode": {
    "name": "ipython",
    "version": 3
   },
   "file_extension": ".py",
   "mimetype": "text/x-python",
   "name": "python",
   "nbconvert_exporter": "python",
   "pygments_lexer": "ipython3",
   "version": "3.7.9-final"
  },
  "orig_nbformat": 2,
  "kernelspec": {
   "name": "python3",
   "display_name": "Python 3.7.9 64-bit ('base': conda)",
   "metadata": {
    "interpreter": {
     "hash": "78a3dceef489575270a83885d20070fa629683a4a35f49c0587b2557b1a9841f"
    }
   }
  }
 },
 "nbformat": 4,
 "nbformat_minor": 2,
 "cells": [
  {
   "cell_type": "code",
   "execution_count": 1,
   "metadata": {},
   "outputs": [],
   "source": [
    "# adding ./bin to system path\n",
    "import sys\n",
    "sys.path.insert(0, os.path.abspath('./bin'))"
   ]
  },
  {
   "source": [
    "Download Corpus and Preprocessing"
   ],
   "cell_type": "markdown",
   "metadata": {}
  },
  {
   "cell_type": "code",
   "execution_count": 1,
   "metadata": {},
   "outputs": [
    {
     "output_type": "stream",
     "name": "stdout",
     "text": [
      "--2021-03-13 21:45:24--  http://demo.spraakdata.gu.se/gerlof/OpenEDGeS/OpenEDGeS_v1.0.0.zip\n",
      "Resolving demo.spraakdata.gu.se (demo.spraakdata.gu.se)... 130.241.135.164\n",
      "Connecting to demo.spraakdata.gu.se (demo.spraakdata.gu.se)|130.241.135.164|:80... connected.\n",
      "HTTP request sent, awaiting response... 200 OK\n",
      "Length: 76434359 (73M) [application/zip]\n",
      "Saving to: ‘OpenEDGeS_v1.0.0.zip’\n",
      "\n",
      "OpenEDGeS_v1.0.0.zi 100%[===================>]  72.89M  82.1KB/s    in 13m 30s \n",
      "\n",
      "2021-03-13 21:58:55 (92.1 KB/s) - ‘OpenEDGeS_v1.0.0.zip’ saved [76434359/76434359]\n",
      "\n"
     ]
    }
   ],
   "source": [
    "! wget http://demo.spraakdata.gu.se/gerlof/OpenEDGeS/OpenEDGeS_v1.0.0.zip\n",
    "! unzip OpenEDGeS_v1.0.0.zip -d data/ && rm OpenEDGeS_v1.0.0.zip"
   ]
  },
  {
   "cell_type": "code",
   "execution_count": 2,
   "metadata": {},
   "outputs": [],
   "source": [
    "import os\n",
    "from preprocessing import Preprocessor"
   ]
  },
  {
   "source": [
    "Uncomment and run this code block only if you want to process **all data**"
   ],
   "cell_type": "markdown",
   "metadata": {}
  },
  {
   "cell_type": "code",
   "execution_count": 4,
   "metadata": {
    "tags": []
   },
   "outputs": [],
   "source": [
    "# UNCOMMENT block below to process all data\n",
    "# path_to_corpus = \"data/OpenEDGeS/\"\n",
    "# path_to_processed_data = \"data/processed/\"\n",
    "# preprocessor = Preprocessor(path_to_corpus, path_to_processed_data)\n",
    "# path_to_sentence_alignments = \"data/OpenEDGeS/Alignments/\"\n",
    "# for root, dirs, files in os.walk(path_to_sentence_alignments):\n",
    "#     files = [ fi for fi in files if fi.endswith(\".tsv\")]\n",
    "#     for file in files:\n",
    "#         preprocessor.process(os.path.join(root,file), verbose = False)"
   ]
  },
  {
   "source": [
    "Test cases"
   ],
   "cell_type": "markdown",
   "metadata": {}
  },
  {
   "cell_type": "code",
   "execution_count": 4,
   "metadata": {},
   "outputs": [
    {
     "output_type": "stream",
     "name": "stdout",
     "text": [
      "Initializing preprocessor...\n",
      "Corpus directory: data/OpenEDGeS/\n",
      "Output directory: data/eval/\n",
      "Processing alignment file: data/OpenEDGeS/Alignments/de-de/de_1781_Rosalino-de_1871_Elberfelder.tsv\n",
      "Directory to f text: data/OpenEDGeS/Texts/de/de_1781_Rosalino\n",
      "Directory to e text: data/OpenEDGeS/Texts/de/de_1871_Elberfelder\n",
      "Outputing .f file: data/eval/de-de/de_1781_Rosalino-de_1871_Elberfelder/text.f\n",
      "Outputing .e file: data/eval/de-de/de_1781_Rosalino-de_1871_Elberfelder/text.e\n",
      "Processing alignment file: data/OpenEDGeS/Alignments/de-en/de_1871_Elberfelder-en_1890_Darby.tsv\n",
      "Directory to f text: data/OpenEDGeS/Texts/de/de_1871_Elberfelder\n",
      "Directory to e text: data/OpenEDGeS/Texts/en/en_1890_Darby\n",
      "Outputing .f file: data/eval/de-en/de_1871_Elberfelder-en_1890_Darby/text.f\n",
      "Outputing .e file: data/eval/de-en/de_1871_Elberfelder-en_1890_Darby/text.e\n",
      "Processing alignment file: data/OpenEDGeS/Alignments/en-en/en_1611_KJV-en_1890_Darby.tsv\n",
      "Directory to f text: data/OpenEDGeS/Texts/en/en_1611_KJV\n",
      "Directory to e text: data/OpenEDGeS/Texts/en/en_1890_Darby\n",
      "Outputing .f file: data/eval/en-en/en_1611_KJV-en_1890_Darby/text.f\n",
      "Outputing .e file: data/eval/en-en/en_1611_KJV-en_1890_Darby/text.e\n"
     ]
    }
   ],
   "source": [
    "path_to_corpus = \"data/OpenEDGeS/\"\n",
    "path_to_processed_data = \"data/eval/\"\n",
    "# initialize the preprocessor with in- and output paths\n",
    "preprocessor = Preprocessor(path_to_corpus, path_to_processed_data)\n",
    "testset = ['data/OpenEDGeS/Alignments/de-de/de_1781_Rosalino-de_1871_Elberfelder.tsv', 'data/OpenEDGeS/Alignments/de-en/de_1871_Elberfelder-en_1890_Darby.tsv', 'data/OpenEDGeS/Alignments/en-en/en_1611_KJV-en_1890_Darby.tsv']\n",
    "for alignment_file in testset:\n",
    "    preprocessor.process(alignment_file)"
   ]
  },
  {
   "cell_type": "code",
   "execution_count": null,
   "metadata": {},
   "outputs": [],
   "source": []
  }
 ]
}