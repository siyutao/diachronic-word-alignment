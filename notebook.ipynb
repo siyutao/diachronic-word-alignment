{
 "metadata": {
  "language_info": {
   "codemirror_mode": {
    "name": "ipython",
    "version": 3
   },
   "file_extension": ".py",
   "mimetype": "text/x-python",
   "name": "python",
   "nbconvert_exporter": "python",
   "pygments_lexer": "ipython3",
   "version": "3.7.9-final"
  },
  "orig_nbformat": 2,
  "kernelspec": {
   "name": "python3",
   "display_name": "Python 3.7.9 64-bit ('base': conda)",
   "metadata": {
    "interpreter": {
     "hash": "78a3dceef489575270a83885d20070fa629683a4a35f49c0587b2557b1a9841f"
    }
   }
  }
 },
 "nbformat": 4,
 "nbformat_minor": 2,
 "cells": [
  {
   "cell_type": "code",
   "execution_count": null,
   "metadata": {},
   "outputs": [],
   "source": [
    "# adding ./bin to system path\n",
    "import sys\n",
    "sys.path.insert(0, os.path.abspath('./bin'))"
   ]
  },
  {
   "source": [
    "Download Corpus and Preprocessing"
   ],
   "cell_type": "markdown",
   "metadata": {}
  },
  {
   "cell_type": "code",
   "execution_count": 1,
   "metadata": {},
   "outputs": [
    {
     "output_type": "stream",
     "name": "stdout",
     "text": [
      "--2021-03-13 21:45:24--  http://demo.spraakdata.gu.se/gerlof/OpenEDGeS/OpenEDGeS_v1.0.0.zip\n",
      "Resolving demo.spraakdata.gu.se (demo.spraakdata.gu.se)... 130.241.135.164\n",
      "Connecting to demo.spraakdata.gu.se (demo.spraakdata.gu.se)|130.241.135.164|:80... connected.\n",
      "HTTP request sent, awaiting response... 200 OK\n",
      "Length: 76434359 (73M) [application/zip]\n",
      "Saving to: ‘OpenEDGeS_v1.0.0.zip’\n",
      "\n",
      "OpenEDGeS_v1.0.0.zi 100%[===================>]  72.89M  82.1KB/s    in 13m 30s \n",
      "\n",
      "2021-03-13 21:58:55 (92.1 KB/s) - ‘OpenEDGeS_v1.0.0.zip’ saved [76434359/76434359]\n",
      "\n"
     ]
    }
   ],
   "source": [
    "! wget http://demo.spraakdata.gu.se/gerlof/OpenEDGeS/OpenEDGeS_v1.0.0.zip\n",
    "! unzip OpenEDGeS_v1.0.0.zip -d data/ && rm OpenEDGeS_v1.0.0.zip"
   ]
  },
  {
   "cell_type": "code",
   "execution_count": 1,
   "metadata": {},
   "outputs": [],
   "source": [
    "import os\n",
    "from preprocessing import Preprocessor\n",
    "path_to_corpus = \"data/OpenEDGeS/\"\n",
    "path_to_processed_data = \"data/processed/\"\n",
    "# initialize the preprocessor with in- and output paths\n",
    "preprocessor = Preprocessor(path_to_corpus, path_to_processed_data)"
   ]
  },
  {
   "source": [],
   "cell_type": "markdown",
   "metadata": {}
  },
  {
   "cell_type": "code",
   "execution_count": 39,
   "metadata": {},
   "outputs": [
    {
     "output_type": "error",
     "ename": "TypeError",
     "evalue": "process() takes from 1 to 2 positional arguments but 3 were given",
     "traceback": [
      "\u001b[0;31m---------------------------------------------------------------------------\u001b[0m",
      "\u001b[0;31mTypeError\u001b[0m                                 Traceback (most recent call last)",
      "\u001b[0;32m<ipython-input-39-22b0a4ab96e2>\u001b[0m in \u001b[0;36m<module>\u001b[0;34m\u001b[0m\n\u001b[1;32m      2\u001b[0m     \u001b[0mfiles\u001b[0m \u001b[0;34m=\u001b[0m \u001b[0;34m[\u001b[0m \u001b[0mfi\u001b[0m \u001b[0;32mfor\u001b[0m \u001b[0mfi\u001b[0m \u001b[0;32min\u001b[0m \u001b[0mfiles\u001b[0m \u001b[0;32mif\u001b[0m \u001b[0mfi\u001b[0m\u001b[0;34m.\u001b[0m\u001b[0mendswith\u001b[0m\u001b[0;34m(\u001b[0m\u001b[0;34m\".tsv\"\u001b[0m\u001b[0;34m)\u001b[0m\u001b[0;34m]\u001b[0m\u001b[0;34m\u001b[0m\u001b[0;34m\u001b[0m\u001b[0m\n\u001b[1;32m      3\u001b[0m     \u001b[0;32mfor\u001b[0m \u001b[0mfile\u001b[0m \u001b[0;32min\u001b[0m \u001b[0mfiles\u001b[0m\u001b[0;34m:\u001b[0m\u001b[0;34m\u001b[0m\u001b[0;34m\u001b[0m\u001b[0m\n\u001b[0;32m----> 4\u001b[0;31m         \u001b[0mpreprocessor\u001b[0m\u001b[0;34m.\u001b[0m\u001b[0mprocess\u001b[0m\u001b[0;34m(\u001b[0m\u001b[0mos\u001b[0m\u001b[0;34m.\u001b[0m\u001b[0mpath\u001b[0m\u001b[0;34m.\u001b[0m\u001b[0mjoin\u001b[0m\u001b[0;34m(\u001b[0m\u001b[0mroot\u001b[0m\u001b[0;34m,\u001b[0m\u001b[0mfile\u001b[0m\u001b[0;34m)\u001b[0m\u001b[0;34m,\u001b[0m \u001b[0;32mTrue\u001b[0m\u001b[0;34m)\u001b[0m\u001b[0;34m\u001b[0m\u001b[0;34m\u001b[0m\u001b[0m\n\u001b[0m",
      "\u001b[0;31mTypeError\u001b[0m: process() takes from 1 to 2 positional arguments but 3 were given"
     ]
    }
   ],
   "source": [
    "for root, dirs, files in os.walk(path_to_sentence_alignments):\n",
    "    files = [ fi for fi in files if fi.endswith(\".tsv\")]\n",
    "    for file in files:\n",
    "        preprocessor.process(os.path.join(root,file), verbose = True)"
   ]
  },
  {
   "cell_type": "code",
   "execution_count": null,
   "metadata": {},
   "outputs": [],
   "source": []
  }
 ]
}