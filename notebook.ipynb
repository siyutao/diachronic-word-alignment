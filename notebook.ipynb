{
  "cells": [
    {
      "cell_type": "markdown",
      "source": [
        "# Final Project\n",
        "## Computational Linguistics (Winter semester 2020/21, Prof. Dr. Alexander Koller)\n",
        "## Siyu Tao"
      ],
      "metadata": {
        "id": "Z3Dw8taLXhg6"
      }
    },
    {
      "cell_type": "markdown",
      "source": [
        "### Environment Setup"
      ],
      "metadata": {
        "id": "TCXS_DF4XhhS"
      }
    },
    {
      "cell_type": "code",
      "source": [
        "! pip install editdistance"
      ],
      "outputs": [
        {
          "output_type": "stream",
          "name": "stdout",
          "text": [
            "Requirement already satisfied: editdistance in /anaconda/envs/azureml_py36/lib/python3.6/site-packages (0.5.3)\r\n"
          ]
        }
      ],
      "execution_count": 1,
      "metadata": {
        "collapsed": true,
        "jupyter": {
          "source_hidden": false,
          "outputs_hidden": false
        },
        "nteract": {
          "transient": {
            "deleting": false
          }
        }
      }
    },
    {
      "cell_type": "code",
      "source": [
        "# adding ./bin to system path\n",
        "import sys\n",
        "import os\n",
        "sys.path.insert(0, os.path.abspath('./bin'))\n",
        "from preprocessing import Preprocessor\n",
        "# standard IBM model 1\n",
        "from model1 import Model1\n",
        "# models extended with edit-distance\n",
        "from ed_model import ED_Model1"
      ],
      "outputs": [],
      "execution_count": 1,
      "metadata": {
        "id": "IcmlamHrXhhV",
        "gather": {
          "logged": 1615820123459
        }
      }
    },
    {
      "cell_type": "markdown",
      "source": [
        "## Preprocessing"
      ],
      "metadata": {
        "id": "CvxmIdJyXhhW"
      }
    },
    {
      "cell_type": "markdown",
      "source": [
        "### Download and Prepare Corpus"
      ],
      "metadata": {
        "id": "vpcgqwX2XhhX"
      }
    },
    {
      "cell_type": "code",
      "source": [
        "! wget http://demo.spraakdata.gu.se/gerlof/OpenEDGeS/OpenEDGeS_v1.0.0.zip\n",
        "! unzip OpenEDGeS_v1.0.0.zip -d data/ && rm OpenEDGeS_v1.0.0.zip"
      ],
      "outputs": [],
      "execution_count": null,
      "metadata": {
        "id": "wdI0OqWuXhhX",
        "outputId": "94d3fd50-178b-4cce-db5c-98627214aa1d"
      }
    },
    {
      "cell_type": "markdown",
      "source": [
        "### Code for Processing the Entire Corpus\n",
        "Uncomment and run this code block in order to process **THE ENTIRE COPRUS**, not necessary for our experiment / eval"
      ],
      "metadata": {
        "id": "SZIsBVg2XhhY"
      }
    },
    {
      "cell_type": "code",
      "source": [
        "# UNCOMMENT block below to process all data\n",
        "# path_to_corpus = \"data/OpenEDGeS/\"\n",
        "# path_to_processed_data = \"data/processed/\"\n",
        "# preprocessor = Preprocessor(path_to_corpus, path_to_processed_data)\n",
        "# path_to_sentence_alignments = \"data/OpenEDGeS/Alignments/\"\n",
        "# for root, dirs, files in os.walk(path_to_sentence_alignments):\n",
        "#     files = [ fi for fi in files if fi.endswith(\".tsv\")]\n",
        "#     for file in files:\n",
        "#         preprocessor.process(os.path.join(root,file), verbose = False)"
      ],
      "outputs": [],
      "execution_count": null,
      "metadata": {
        "tags": [],
        "id": "R928HLqBXhhY"
      }
    },
    {
      "cell_type": "markdown",
      "source": [
        "### Processing the three pairs of texts for which we have gold alignment labels\n",
        "- de_1781_Rosalino-de_1871_Elberfelder\n",
        "- de_1871_Elberfelder-en_1890_Darby\n",
        "- en_1611_KJV-en_1890_Darby"
      ],
      "metadata": {
        "id": "ZNRj6lg7XhhZ"
      }
    },
    {
      "cell_type": "code",
      "source": [
        "path_to_corpus = \"data/OpenEDGeS/\"\n",
        "path_to_processed_data = \"data/eval/\"\n",
        "# initialize the preprocessor with in- and output paths\n",
        "preprocessor = Preprocessor(path_to_corpus, path_to_processed_data)\n",
        "testset = ['data/OpenEDGeS/Alignments/de-de/de_1781_Rosalino-de_1871_Elberfelder.tsv', 'data/OpenEDGeS/Alignments/de-en/de_1871_Elberfelder-en_1890_Darby.tsv', 'data/OpenEDGeS/Alignments/en-en/en_1611_KJV-en_1890_Darby.tsv']\n",
        "for alignment_file in testset:\n",
        "    preprocessor.process(alignment_file)"
      ],
      "outputs": [],
      "execution_count": null,
      "metadata": {
        "id": "xTp3gZh6XhhZ",
        "outputId": "97b9d869-de82-4397-9bcf-1f51272b5b25"
      }
    },
    {
      "cell_type": "markdown",
      "source": [
        "## Baseline: Standard IBM Model 1"
      ],
      "metadata": {
        "id": "TI_NnUPcXhhZ"
      }
    },
    {
      "cell_type": "markdown",
      "source": [
        "### DE-DE"
      ],
      "metadata": {
        "id": "9jCMdlTnXhha"
      }
    },
    {
      "cell_type": "code",
      "source": [
        "aligner = Model1(d = 'data/eval/de-de/de_1781_Rosalino-de_1871_Elberfelder/text')\n",
        "aligner.em_training(num_iter = 5)"
      ],
      "outputs": [
        {
          "output_type": "stream",
          "name": "stdout",
          "text": [
            "f_vocab_size: 10578\n",
            "e_vocab_size: 10324\n",
            "EM Training Starting:\n",
            "Iteration 1...\n",
            "Iteration 2...\n",
            "Iteration 3...\n",
            "Iteration 4...\n",
            "Iteration 5...\n"
          ]
        }
      ],
      "execution_count": 2,
      "metadata": {
        "colab": {
          "base_uri": "https://localhost:8080/"
        },
        "id": "61dccVs_Xhha",
        "outputId": "d76209cd-145b-4fee-a247-8af25d41c6f3",
        "gather": {
          "logged": 1615820242098
        }
      }
    },
    {
      "cell_type": "code",
      "source": [
        "os.makedirs(\"./output/\", exist_ok=True)\n",
        "aligner.align(out = \"./output/de-de_ibm1.a\", n = 15)\n",
        "! python ./bin/score-alignments -d 'data/eval/de-de/de_1781_Rosalino-de_1871_Elberfelder/text' -n 0  < ./output/de-de_ibm1.a\n",
        "# Output\n",
        "! echo \"\\nStandard IBM Model 1, DE-DE\" >> ./output/summary.info\n",
        "! python ./bin/score-alignments -d 'data/eval/de-de/de_1781_Rosalino-de_1871_Elberfelder/text' -n 0 < ./output/de-de_ibm1.a >> ./output/summary.info\n",
        "! python ./bin/score-alignments -d 'data/eval/de-de/de_1781_Rosalino-de_1871_Elberfelder/text' < ./output/de-de_ibm1.a > ./output/de-de_ibm1.log"
      ],
      "outputs": [
        {
          "output_type": "stream",
          "name": "stdout",
          "text": [
            "Aligned 15 sentences.\n",
            "Output to: ./output/de-de_ibm1.a\n",
            "Precision = 0.541176\r\n",
            "Recall = 0.613333\r\n",
            "AER = 0.425000\r\n"
          ]
        }
      ],
      "execution_count": 3,
      "metadata": {
        "tags": [],
        "colab": {
          "base_uri": "https://localhost:8080/"
        },
        "id": "lvhJtoPzXhhb",
        "outputId": "296329fd-33ae-4ce2-997e-7c12cfe50088",
        "gather": {
          "logged": 1615820243391
        }
      }
    },
    {
      "cell_type": "markdown",
      "source": [
        "### EN-EN"
      ],
      "metadata": {
        "id": "kWTTz9ObXhhd"
      }
    },
    {
      "cell_type": "code",
      "source": [
        "aligner = Model1(d = 'data/eval/en-en/en_1611_KJV-en_1890_Darby/text')\n",
        "aligner.em_training(num_iter = 5)"
      ],
      "outputs": [
        {
          "output_type": "stream",
          "name": "stdout",
          "text": [
            "f_vocab_size: 15351\n",
            "e_vocab_size: 14143\n",
            "EM Training Starting:\n",
            "Iteration 1...\n",
            "Iteration 2...\n",
            "Iteration 3...\n",
            "Iteration 4...\n",
            "Iteration 5...\n"
          ]
        }
      ],
      "execution_count": 4,
      "metadata": {
        "colab": {
          "base_uri": "https://localhost:8080/"
        },
        "id": "DkV80fTyXhhd",
        "outputId": "2c30579b-17ba-41bc-ea3d-cafc85e36618",
        "gather": {
          "logged": 1615820536127
        }
      }
    },
    {
      "cell_type": "code",
      "source": [
        "aligner.align(out = \"./output/en-en_ibm1.a\", n = 15)\n",
        "! python ./bin/score-alignments -d 'data/eval/en-en/en_1611_KJV-en_1890_Darby/text' -n 0  < ./output/en-en_ibm1.a\n",
        "# Output\n",
        "! echo \"\\nStandard IBM Model 1, EN-EN\" >> ./output/summary.info\n",
        "! python ./bin/score-alignments -d 'data/eval/en-en/en_1611_KJV-en_1890_Darby/text' -n 0 < ./output/en-en_ibm1.a >> ./output/summary.info\n",
        "! python ./bin/score-alignments -d 'data/eval/en-en/en_1611_KJV-en_1890_Darby/text' < ./output/en-en_ibm1.a > ./output/en-en_ibm1.log"
      ],
      "outputs": [
        {
          "output_type": "stream",
          "name": "stdout",
          "text": [
            "Aligned 15 sentences.\n",
            "Output to: ./output/en-en_ibm1.a\n",
            "Precision = 0.541254\n",
            "Recall = 0.567474\n",
            "AER = 0.445946\n"
          ]
        }
      ],
      "execution_count": 5,
      "metadata": {
        "id": "e7p53QeIXhhe",
        "gather": {
          "logged": 1615820537928
        }
      }
    },
    {
      "cell_type": "markdown",
      "source": [
        "### DE-EN"
      ],
      "metadata": {
        "id": "2XNFv6E7Xhhe"
      }
    },
    {
      "cell_type": "code",
      "source": [
        "aligner = Model1(d = 'data/eval/de-en/de_1871_Elberfelder-en_1890_Darby/text')\n",
        "aligner.em_training(num_iter = 5)"
      ],
      "outputs": [
        {
          "output_type": "stream",
          "name": "stdout",
          "text": [
            "f_vocab_size: 24103\n",
            "e_vocab_size: 14102\n",
            "EM Training Starting:\n",
            "Iteration 1...\n",
            "Iteration 2...\n",
            "Iteration 3...\n",
            "Iteration 4...\n",
            "Iteration 5...\n"
          ]
        }
      ],
      "execution_count": 6,
      "metadata": {
        "id": "q6eah2ZYXhhe",
        "gather": {
          "logged": 1615820724318
        }
      }
    },
    {
      "cell_type": "code",
      "source": [
        "aligner.align(out = \"./output/de-en_ibm1.a\", n = 15)\n",
        "! python ./bin/score-alignments -d 'data/eval/de-en/de_1871_Elberfelder-en_1890_Darby/text' -n 0  < ./output/de-en_ibm1.a\n",
        "# Output\n",
        "! echo \"\\nStandard IBM Model 1, DE-EN\" >> ./output/summary.info\n",
        "! python ./bin/score-alignments -d 'data/eval/de-en/de_1871_Elberfelder-en_1890_Darby/text' -n 0 < ./output/de-en_ibm1.a >> ./output/summary.info\n",
        "! python ./bin/score-alignments -d 'data/eval/de-en/de_1871_Elberfelder-en_1890_Darby/text' < ./output/de-en_ibm1.a > ./output/de-en_ibm1.log"
      ],
      "outputs": [
        {
          "output_type": "stream",
          "name": "stdout",
          "text": [
            "Aligned 15 sentences.\n",
            "Output to: ./output/de-en_ibm1.a\n",
            "Precision = 0.596958\n",
            "Recall = 0.610895\n",
            "AER = 0.396154\n"
          ]
        }
      ],
      "execution_count": 7,
      "metadata": {
        "id": "fVpP8rM_Xhhf",
        "gather": {
          "logged": 1615820726214
        }
      }
    },
    {
      "cell_type": "markdown",
      "source": [
        "## Method 1: Heuristic Initialization"
      ],
      "metadata": {
        "id": "2DxzvcScZsZX"
      }
    },
    {
      "cell_type": "markdown",
      "source": [
        "### DE-DE"
      ],
      "metadata": {
        "id": "kVqcX8hBZsZg"
      }
    },
    {
      "cell_type": "code",
      "source": [
        "aligner = ED_Model1(d = \"data/eval/de-de/de_1781_Rosalino-de_1871_Elberfelder/text\", ed_heuristic = True)\n",
        "aligner.em_training(num_iter = 5)"
      ],
      "outputs": [
        {
          "output_type": "stream",
          "name": "stdout",
          "text": [
            "f_vocab_size: 10578\n",
            "e_vocab_size: 10324\n",
            "Using edit distance for heuristic initialization: (one dot represents 1 percent)\n",
            ".....................................................................................................\n",
            "Heuristic initialization completed.\n",
            "EM Training Starting:\n",
            "Iteration 1...\n",
            "Iteration 2...\n",
            "Iteration 3...\n",
            "Iteration 4...\n",
            "Iteration 5...\n"
          ]
        }
      ],
      "execution_count": 8,
      "metadata": {
        "colab": {
          "base_uri": "https://localhost:8080/"
        },
        "id": "ZrZK3ww2ZsZh",
        "outputId": "70a434f9-18a8-410b-c0f8-78e96ce54edc",
        "gather": {
          "logged": 1615821687261
        }
      }
    },
    {
      "cell_type": "code",
      "source": [
        "aligner.align(out = \"./output/de-de_ed1.a\", n = 15)\n",
        "! python ./bin/score-alignments -d 'data/eval/de-de/de_1781_Rosalino-de_1871_Elberfelder/text' -n 0  < ./output/de-de_ed1.a\n",
        "# Output\n",
        "! echo \"\\nModel 1 with ED Heuristic, DE-DE\" >> ./output/summary.info\n",
        "! python ./bin/score-alignments -d 'data/eval/de-de/de_1781_Rosalino-de_1871_Elberfelder/text' -n 0 < ./output/de-de_ed1.a >> ./output/summary.info\n",
        "! python ./bin/score-alignments -d 'data/eval/de-de/de_1781_Rosalino-de_1871_Elberfelder/text' < ./output/de-de_ed1.a > ./output/de-de_ed1.log"
      ],
      "outputs": [
        {
          "output_type": "stream",
          "name": "stdout",
          "text": [
            "Aligned 15 sentences.\n",
            "Output to: ./output/de-de_ed1.a\n",
            "Precision = 0.579412\r\n",
            "Recall = 0.656667\r\n",
            "AER = 0.384375\r\n"
          ]
        }
      ],
      "execution_count": 9,
      "metadata": {
        "tags": [],
        "colab": {
          "base_uri": "https://localhost:8080/"
        },
        "id": "pYkw7_QQZsZi",
        "outputId": "f130624c-9e7a-402a-f465-84227249def5",
        "gather": {
          "logged": 1615821970649
        }
      }
    },
    {
      "cell_type": "markdown",
      "source": [
        "### EN-EN"
      ],
      "metadata": {
        "id": "D-uRsRe9ZsZj"
      }
    },
    {
      "cell_type": "code",
      "source": [
        "aligner = ED_Model1(d = 'data/eval/en-en/en_1611_KJV-en_1890_Darby/text', ed_heuristic = True)\n",
        "aligner.em_training(num_iter = 5)"
      ],
      "outputs": [
        {
          "output_type": "stream",
          "name": "stdout",
          "text": [
            "f_vocab_size: 15351\n",
            "e_vocab_size: 14143\n",
            "Using edit distance for heuristic initialization: (one dot represents 1 percent)\n",
            ".....................................................................................................\n",
            "Heuristic initialization completed.\n",
            "EM Training Starting:\n",
            "Iteration 1...\n",
            "Iteration 2...\n",
            "Iteration 3...\n",
            "Iteration 4...\n",
            "Iteration 5...\n"
          ]
        }
      ],
      "execution_count": 10,
      "metadata": {
        "colab": {
          "base_uri": "https://localhost:8080/"
        },
        "id": "sEW8dbv6ZsZj",
        "outputId": "696a2265-3603-4498-fac6-ef92dbdcf173",
        "gather": {
          "logged": 1615823953713
        }
      }
    },
    {
      "cell_type": "code",
      "source": [
        "aligner.align(out = \"./output/en-en_ed1.a\", n = 15)\n",
        "! python ./bin/score-alignments -d 'data/eval/en-en/en_1611_KJV-en_1890_Darby/text' -n 0  < ./output/en-en_ed1.a\n",
        "# Output\n",
        "! echo \"\\nModel 1 with ED Heuristic, EN-EN\" >> ./output/summary.info\n",
        "! python ./bin/score-alignments -d 'data/eval/en-en/en_1611_KJV-en_1890_Darby/text' -n 0 < ./output/en-en_ed1.a >> ./output/summary.info\n",
        "! python ./bin/score-alignments -d 'data/eval/en-en/en_1611_KJV-en_1890_Darby/text' < ./output/en-en_ed1.a > ./output/en-en_ed1.log"
      ],
      "outputs": [
        {
          "output_type": "stream",
          "name": "stdout",
          "text": [
            "Aligned 15 sentences.\n",
            "Output to: ./output/en-en_ed1.a\n",
            "Precision = 0.590759\n",
            "Recall = 0.619377\n",
            "AER = 0.395270\n"
          ]
        }
      ],
      "execution_count": 11,
      "metadata": {
        "id": "UqriOtK_ZsZj",
        "gather": {
          "logged": 1615823955457
        }
      }
    },
    {
      "cell_type": "markdown",
      "source": [
        "### DE-EN"
      ],
      "metadata": {
        "id": "sOvOxmmiZsZm"
      }
    },
    {
      "cell_type": "code",
      "source": [
        "aligner = ED_Model1(d = 'data/eval/de-en/de_1871_Elberfelder-en_1890_Darby/text', ed_heuristic = True)\n",
        "aligner.em_training(num_iter = 5)"
      ],
      "outputs": [
        {
          "output_type": "stream",
          "name": "stdout",
          "text": [
            "f_vocab_size: 24103\n",
            "e_vocab_size: 14102\n",
            "Using edit distance for heuristic initialization: (one dot represents 1 percent)\n",
            ".....................................................................................................\n",
            "Heuristic initialization completed.\n",
            "EM Training Starting:\n",
            "Iteration 1...\n",
            "Iteration 2...\n",
            "Iteration 3...\n",
            "Iteration 4...\n",
            "Iteration 5...\n"
          ]
        }
      ],
      "execution_count": 12,
      "metadata": {
        "id": "ax9onN2vZsZm",
        "gather": {
          "logged": 1615826888871
        }
      }
    },
    {
      "cell_type": "code",
      "source": [
        "aligner.align(out = \"./output/de-en_ed1.a\", n = 15)\n",
        "! python ./bin/score-alignments -d 'data/eval/de-en/de_1871_Elberfelder-en_1890_Darby/text' -n 0  < ./output/de-en_ed1.a\n",
        "# Output\n",
        "! echo \"\\nModel 1 with ED Heuristic, DE-EN\" >> ./output/summary.info\n",
        "! python ./bin/score-alignments -d 'data/eval/de-en/de_1871_Elberfelder-en_1890_Darby/text' -n 0 < ./output/de-en_ed1.a >> ./output/summary.info\n",
        "! python ./bin/score-alignments -d 'data/eval/de-en/de_1871_Elberfelder-en_1890_Darby/text' < ./output/de-en_ed1.a > ./output/de-en_ed1.log"
      ],
      "outputs": [
        {
          "output_type": "stream",
          "name": "stdout",
          "text": [
            "Aligned 15 sentences.\n",
            "Output to: ./output/de-en_ed1.a\n",
            "Precision = 0.657795\r\n",
            "Recall = 0.673152\r\n",
            "AER = 0.334615\r\n"
          ]
        }
      ],
      "execution_count": 13,
      "metadata": {
        "id": "4iMU9Pe4ZsZn",
        "gather": {
          "logged": 1615826890568
        }
      }
    },
    {
      "cell_type": "markdown",
      "source": [
        "## Method 2: Modified Decoding"
      ],
      "metadata": {
        "id": "WRNl7kCCbtrU"
      }
    },
    {
      "cell_type": "markdown",
      "source": [
        "### DE-DE"
      ],
      "metadata": {
        "id": "-4ZXOltobtrj"
      }
    },
    {
      "cell_type": "code",
      "source": [
        "aligner = ED_Model1(d = \"data/eval/de-de/de_1781_Rosalino-de_1871_Elberfelder/text\", ed_decode = True)\n",
        "aligner.em_training(num_iter = 5)"
      ],
      "outputs": [
        {
          "output_type": "stream",
          "name": "stdout",
          "text": [
            "f_vocab_size: 10578\n",
            "e_vocab_size: 10324\n",
            "EM Training Starting:\n",
            "Iteration 1...\n",
            "Iteration 2...\n",
            "Iteration 3...\n",
            "Iteration 4...\n",
            "Iteration 5...\n"
          ]
        }
      ],
      "execution_count": 14,
      "metadata": {
        "colab": {
          "base_uri": "https://localhost:8080/"
        },
        "id": "uhsjLKHYbtrk",
        "outputId": "70a434f9-18a8-410b-c0f8-78e96ce54edc",
        "gather": {
          "logged": 1615826955884
        }
      }
    },
    {
      "cell_type": "code",
      "source": [
        "aligner.align(out = \"./output/de-de_ed2.a\", n = 15)\n",
        "! python ./bin/score-alignments -d 'data/eval/de-de/de_1781_Rosalino-de_1871_Elberfelder/text' -n 0  < ./output/de-de_ed2.a\n",
        "# Output\n",
        "! echo \"\\nModel 1 with ED Decoding, DE-DE\" >> ./output/summary.info\n",
        "! python ./bin/score-alignments -d 'data/eval/de-de/de_1781_Rosalino-de_1871_Elberfelder/text' -n 0 < ./output/de-de_ed2.a >> ./output/summary.info\n",
        "! python ./bin/score-alignments -d 'data/eval/de-de/de_1781_Rosalino-de_1871_Elberfelder/text' < ./output/de-de_ed2.a > ./output/de-de_ed2.log"
      ],
      "outputs": [
        {
          "output_type": "stream",
          "name": "stdout",
          "text": [
            "Aligned 15 sentences.\n",
            "Output to: ./output/de-de_ed2.a\n",
            "Precision = 0.550000\n",
            "Recall = 0.623333\n",
            "AER = 0.415625\n"
          ]
        }
      ],
      "execution_count": 15,
      "metadata": {
        "tags": [],
        "colab": {
          "base_uri": "https://localhost:8080/"
        },
        "id": "lKZCIs9Obtrk",
        "outputId": "f130624c-9e7a-402a-f465-84227249def5",
        "gather": {
          "logged": 1615826957727
        }
      }
    },
    {
      "cell_type": "markdown",
      "source": [
        "### EN-EN"
      ],
      "metadata": {
        "id": "iYpA66BKbtrk"
      }
    },
    {
      "cell_type": "code",
      "source": [
        "aligner = ED_Model1(d = 'data/eval/en-en/en_1611_KJV-en_1890_Darby/text', ed_decode = True)\n",
        "aligner.em_training(num_iter = 5)"
      ],
      "outputs": [
        {
          "output_type": "stream",
          "name": "stdout",
          "text": [
            "f_vocab_size: 15351\n",
            "e_vocab_size: 14143\n",
            "EM Training Starting:\n",
            "Iteration 1...\n",
            "Iteration 2...\n",
            "Iteration 3...\n",
            "Iteration 4...\n",
            "Iteration 5...\n"
          ]
        }
      ],
      "execution_count": 16,
      "metadata": {
        "colab": {
          "base_uri": "https://localhost:8080/"
        },
        "id": "7ksTQH9ibtrl",
        "outputId": "696a2265-3603-4498-fac6-ef92dbdcf173",
        "gather": {
          "logged": 1615827222296
        }
      }
    },
    {
      "cell_type": "code",
      "source": [
        "aligner.align(out = \"./output/en-en_ed2.a\", n = 15)\n",
        "! python ./bin/score-alignments -d 'data/eval/en-en/en_1611_KJV-en_1890_Darby/text' -n 0  < ./output/en-en_ed2.a\n",
        "# Output\n",
        "! echo \"\\nModel 1 with ED Decoding, EN-EN\" >> ./output/summary.info\n",
        "! python ./bin/score-alignments -d 'data/eval/en-en/en_1611_KJV-en_1890_Darby/text' -n 0 < ./output/en-en_ed2.a >> ./output/summary.info\n",
        "! python ./bin/score-alignments -d 'data/eval/en-en/en_1611_KJV-en_1890_Darby/text' < ./output/en-en_ed2.a > ./output/en-en_ed2.log"
      ],
      "outputs": [
        {
          "output_type": "stream",
          "name": "stdout",
          "text": [
            "Aligned 15 sentences.\n",
            "Output to: ./output/en-en_ed2.a\n",
            "Precision = 0.607261\n",
            "Recall = 0.636678\n",
            "AER = 0.378378\n"
          ]
        }
      ],
      "execution_count": 17,
      "metadata": {
        "id": "SUdLbQ2cbtrl",
        "gather": {
          "logged": 1615827223788
        }
      }
    },
    {
      "cell_type": "markdown",
      "source": [
        "### DE-EN"
      ],
      "metadata": {
        "id": "W2Cby6Pmbtrl"
      }
    },
    {
      "cell_type": "code",
      "source": [
        "aligner = ED_Model1(d = 'data/eval/de-en/de_1871_Elberfelder-en_1890_Darby/text', ed_decode = True)\n",
        "aligner.em_training(num_iter = 5)"
      ],
      "outputs": [
        {
          "output_type": "stream",
          "name": "stdout",
          "text": [
            "f_vocab_size: 24103\n",
            "e_vocab_size: 14102\n",
            "EM Training Starting:\n",
            "Iteration 1...\n",
            "Iteration 2...\n",
            "Iteration 3...\n",
            "Iteration 4...\n",
            "Iteration 5...\n"
          ]
        }
      ],
      "execution_count": 18,
      "metadata": {
        "id": "7_f5SadDbtrm",
        "gather": {
          "logged": 1615827475932
        }
      }
    },
    {
      "cell_type": "code",
      "source": [
        "aligner.align(out = \"./output/de-en_ed2.a\", n = 15)\n",
        "! python ./bin/score-alignments -d 'data/eval/de-en/de_1871_Elberfelder-en_1890_Darby/text' -n 0  < ./output/de-en_ed2.a\n",
        "# Output\n",
        "! echo \"\\nModel 1 with ED Decoding, DE-EN\" >> ./output/summary.info\n",
        "! python ./bin/score-alignments -d 'data/eval/de-en/de_1871_Elberfelder-en_1890_Darby/text' -n 0 < ./output/de-en_ed2.a >> ./output/summary.info\n",
        "! python ./bin/score-alignments -d 'data/eval/de-en/de_1871_Elberfelder-en_1890_Darby/text' < ./output/de-en_ed2.a > ./output/de-en_ed2.log"
      ],
      "outputs": [
        {
          "output_type": "stream",
          "name": "stdout",
          "text": [
            "Aligned 15 sentences.\n",
            "Output to: ./output/de-en_ed2.a\n",
            "Precision = 0.646388\n",
            "Recall = 0.661479\n",
            "AER = 0.346154\n"
          ]
        }
      ],
      "execution_count": 19,
      "metadata": {
        "id": "1US3LebCbtrm",
        "gather": {
          "logged": 1615827477663
        }
      }
    }
  ],
  "metadata": {
    "language_info": {
      "name": "python",
      "version": "3.6.9",
      "mimetype": "text/x-python",
      "codemirror_mode": {
        "name": "ipython",
        "version": 3
      },
      "pygments_lexer": "ipython3",
      "nbconvert_exporter": "python",
      "file_extension": ".py"
    },
    "orig_nbformat": 2,
    "kernelspec": {
      "name": "python3",
      "language": "python",
      "display_name": "Python 3"
    },
    "colab": {
      "name": "notebook.ipynb",
      "provenance": [],
      "collapsed_sections": [
        "CvxmIdJyXhhW"
      ]
    },
    "kernel_info": {
      "name": "python3"
    },
    "nteract": {
      "version": "nteract-front-end@1.0.0"
    },
    "microsoft": {
      "host": {
        "AzureML": {
          "notebookHasBeenCompleted": true
        }
      }
    }
  },
  "nbformat": 4,
  "nbformat_minor": 0
}