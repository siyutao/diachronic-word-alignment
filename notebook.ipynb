{
 "metadata": {
  "language_info": {
   "codemirror_mode": {
    "name": "ipython",
    "version": 3
   },
   "file_extension": ".py",
   "mimetype": "text/x-python",
   "name": "python",
   "nbconvert_exporter": "python",
   "pygments_lexer": "ipython3",
   "version": "3.7.9-final"
  },
  "orig_nbformat": 2,
  "kernelspec": {
   "name": "python3",
   "display_name": "Python 3.7.9 64-bit ('base': conda)",
   "metadata": {
    "interpreter": {
     "hash": "78a3dceef489575270a83885d20070fa629683a4a35f49c0587b2557b1a9841f"
    }
   }
  }
 },
 "nbformat": 4,
 "nbformat_minor": 2,
 "cells": [
  {
   "source": [
    "# Final Project\n",
    "## Computational Linguistics (Winter semester 2020/21, Prof. Dr. Alexander Koller)\n",
    "## Siyu Tao"
   ],
   "cell_type": "markdown",
   "metadata": {}
  },
  {
   "source": [
    "### Environment Setup"
   ],
   "cell_type": "markdown",
   "metadata": {}
  },
  {
   "cell_type": "code",
   "execution_count": 1,
   "metadata": {},
   "outputs": [],
   "source": [
    "# adding ./bin to system path\n",
    "import sys\n",
    "sys.path.insert(0, os.path.abspath('./bin'))\n",
    "import os\n",
    "from preprocessing import Preprocessor\n",
    "# standard IBM model 1\n",
    "from model1 import Model1\n",
    "# models extended with edit-distance\n",
    "from ed_models import ED_Model1"
   ]
  },
  {
   "source": [
    "## Preprocessing"
   ],
   "cell_type": "markdown",
   "metadata": {}
  },
  {
   "source": [
    "### Download and Prepare Corpus"
   ],
   "cell_type": "markdown",
   "metadata": {}
  },
  {
   "cell_type": "code",
   "execution_count": 1,
   "metadata": {},
   "outputs": [
    {
     "output_type": "stream",
     "name": "stdout",
     "text": [
      "--2021-03-13 21:45:24--  http://demo.spraakdata.gu.se/gerlof/OpenEDGeS/OpenEDGeS_v1.0.0.zip\n",
      "Resolving demo.spraakdata.gu.se (demo.spraakdata.gu.se)... 130.241.135.164\n",
      "Connecting to demo.spraakdata.gu.se (demo.spraakdata.gu.se)|130.241.135.164|:80... connected.\n",
      "HTTP request sent, awaiting response... 200 OK\n",
      "Length: 76434359 (73M) [application/zip]\n",
      "Saving to: ‘OpenEDGeS_v1.0.0.zip’\n",
      "\n",
      "OpenEDGeS_v1.0.0.zi 100%[===================>]  72.89M  82.1KB/s    in 13m 30s \n",
      "\n",
      "2021-03-13 21:58:55 (92.1 KB/s) - ‘OpenEDGeS_v1.0.0.zip’ saved [76434359/76434359]\n",
      "\n"
     ]
    }
   ],
   "source": [
    "! wget http://demo.spraakdata.gu.se/gerlof/OpenEDGeS/OpenEDGeS_v1.0.0.zip\n",
    "! unzip OpenEDGeS_v1.0.0.zip -d data/ && rm OpenEDGeS_v1.0.0.zip"
   ]
  },
  {
   "source": [
    "### Code for Processing the Entire Corpus\n",
    "Uncomment and run this code block in order to process **THE ENTIRE COPRUS**, not necessary for our experiment / eval"
   ],
   "cell_type": "markdown",
   "metadata": {}
  },
  {
   "cell_type": "code",
   "execution_count": 4,
   "metadata": {
    "tags": []
   },
   "outputs": [],
   "source": [
    "# UNCOMMENT block below to process all data\n",
    "# path_to_corpus = \"data/OpenEDGeS/\"\n",
    "# path_to_processed_data = \"data/processed/\"\n",
    "# preprocessor = Preprocessor(path_to_corpus, path_to_processed_data)\n",
    "# path_to_sentence_alignments = \"data/OpenEDGeS/Alignments/\"\n",
    "# for root, dirs, files in os.walk(path_to_sentence_alignments):\n",
    "#     files = [ fi for fi in files if fi.endswith(\".tsv\")]\n",
    "#     for file in files:\n",
    "#         preprocessor.process(os.path.join(root,file), verbose = False)"
   ]
  },
  {
   "source": [
    "### Processing the three pairs of texts, for which we have gold alignment labels\n",
    "- de_1781_Rosalino-de_1871_Elberfelder\n",
    "- de_1871_Elberfelder-en_1890_Darby\n",
    "- en_1611_KJV-en_1890_Darby"
   ],
   "cell_type": "markdown",
   "metadata": {}
  },
  {
   "cell_type": "code",
   "execution_count": 4,
   "metadata": {},
   "outputs": [
    {
     "output_type": "stream",
     "name": "stdout",
     "text": [
      "Initializing preprocessor...\n",
      "Corpus directory: data/OpenEDGeS/\n",
      "Output directory: data/eval/\n",
      "Processing alignment file: data/OpenEDGeS/Alignments/de-de/de_1781_Rosalino-de_1871_Elberfelder.tsv\n",
      "Directory to f text: data/OpenEDGeS/Texts/de/de_1781_Rosalino\n",
      "Directory to e text: data/OpenEDGeS/Texts/de/de_1871_Elberfelder\n",
      "Outputing .f file: data/eval/de-de/de_1781_Rosalino-de_1871_Elberfelder/text.f\n",
      "Outputing .e file: data/eval/de-de/de_1781_Rosalino-de_1871_Elberfelder/text.e\n",
      "Processing alignment file: data/OpenEDGeS/Alignments/de-en/de_1871_Elberfelder-en_1890_Darby.tsv\n",
      "Directory to f text: data/OpenEDGeS/Texts/de/de_1871_Elberfelder\n",
      "Directory to e text: data/OpenEDGeS/Texts/en/en_1890_Darby\n",
      "Outputing .f file: data/eval/de-en/de_1871_Elberfelder-en_1890_Darby/text.f\n",
      "Outputing .e file: data/eval/de-en/de_1871_Elberfelder-en_1890_Darby/text.e\n",
      "Processing alignment file: data/OpenEDGeS/Alignments/en-en/en_1611_KJV-en_1890_Darby.tsv\n",
      "Directory to f text: data/OpenEDGeS/Texts/en/en_1611_KJV\n",
      "Directory to e text: data/OpenEDGeS/Texts/en/en_1890_Darby\n",
      "Outputing .f file: data/eval/en-en/en_1611_KJV-en_1890_Darby/text.f\n",
      "Outputing .e file: data/eval/en-en/en_1611_KJV-en_1890_Darby/text.e\n"
     ]
    }
   ],
   "source": [
    "path_to_corpus = \"data/OpenEDGeS/\"\n",
    "path_to_processed_data = \"data/eval/\"\n",
    "# initialize the preprocessor with in- and output paths\n",
    "preprocessor = Preprocessor(path_to_corpus, path_to_processed_data)\n",
    "testset = ['data/OpenEDGeS/Alignments/de-de/de_1781_Rosalino-de_1871_Elberfelder.tsv', 'data/OpenEDGeS/Alignments/de-en/de_1871_Elberfelder-en_1890_Darby.tsv', 'data/OpenEDGeS/Alignments/en-en/en_1611_KJV-en_1890_Darby.tsv']\n",
    "for alignment_file in testset:\n",
    "    preprocessor.process(alignment_file)"
   ]
  },
  {
   "source": [
    "## Baseline: Standard IBM Model 1"
   ],
   "cell_type": "markdown",
   "metadata": {}
  },
  {
   "source": [
    "### Training"
   ],
   "cell_type": "markdown",
   "metadata": {}
  },
  {
   "cell_type": "code",
   "execution_count": 4,
   "metadata": {},
   "outputs": [
    {
     "output_type": "stream",
     "name": "stdout",
     "text": [
      "f_vocab_size: 10578\n",
      "e_vocab_size: 10324\n",
      "EM Training Starting:\n",
      "Iteration 1...\n",
      "Iteration 2...\n",
      "Iteration 3...\n",
      "Iteration 4...\n",
      "Iteration 5...\n"
     ]
    }
   ],
   "source": [
    "aligner = Model1(d = \"data/eval/de-de/de_1781_Rosalino-de_1871_Elberfelder/text\")\n",
    "aligner.em_training(num_iter = 5)"
   ]
  },
  {
   "source": [
    "### Evaluation"
   ],
   "cell_type": "markdown",
   "metadata": {}
  },
  {
   "cell_type": "code",
   "execution_count": 20,
   "metadata": {
    "tags": [
     "outputPrepend"
    ]
   },
   "outputs": [
    {
     "output_type": "stream",
     "name": "stdout",
     "text": [
      "            *                                                                          | ,\n |                                                                                                            ( )       | und\n |                                                         ( )                                                          | denen\n |         ( )                                                                                                          | ,\n |            ( )                               *                                                                       | die\n |                              ( )                *                                                                    | berufen\n |                                                ( )                                                                   | sind\n |         ( )                                           *                                                              | ,\n |                              ( )                   *                                                                 | heilig\n |                              ( )                                                                                     | zu\n |                                                                           ( )                                        | seyn\n |         ( )                                                    *                                                     | ,\n |                                                         (*)                                                          | sammt\n |                                                            (*)                                                       | allen\n |         ( )                                                                                                          | ,\n |            ( )                                                    *                                                  | die\n |                                                                     (*)                                              | an\n |                                                            ( )          *                                            | allen\n |                                                                           (*)                                        | Orten\n |         ( )                                                                                                          | ,\n |                              ( )                                                                                     | wo\n |                                                                            *                            ( )          | sie\n |                                                                                                            (*)       | und\n |                                                         ( )                                                    *     | wir\n |                                                ( )                                                                   | sind\n |         ( )                                                                                                          | ,\n |                           ( )                                                    *                                   | den\n |                                                                                    (*)                               | Namen\n |                                                                                       (*)                            | unsers\n |                                                                                          (*)                         | Herrn\n |                                       ( )                                                    *                       | Jesu\n |                                                                                                (*)                   | Christi\n |                                                                              ( )                                     | anrufen\n |                                                                                                                  (*) | .\n  ---------------------------------------------------------------------------------------------------------------------\n   d  V  G  ,  d  i  K  i  ,  d  G  i  C  J  ,  d  b  H  ,  s  a  ,  d  a  a  O  a  d  N  u  H  J  C  ,  b  i  u  u  . \n   e  e  o     i  n  o  s     e  e  n  h  e     e  e  e     a  l     i  n  l  r  n  e  a  n  e  e  h     e  h  n  n    \n   r  r  t     e     r  t     n  h     r  s     n  r  i     m  l     e     l  t  r  n  m  s  r  s  r     i  r  d  s    \n      s  t           i           e     i  u        u  l     t  e           e  e  u     e  e  r  u  i     d  e     e    \n      a  e           n           i     s           f  i        n           n  n  f     n  r  n     s     e  s     r    \n      m  s           t           l     t           e  g                          e        s        t     s        s    \n      m              h           i     o           n  e                          n                 i                   \n      l                          g                 e  n                                                                \n      u                          t                 n                                                                   \n      n                          e                                                                                     \n      g                          n                                                                                     \n\n  Alignment 3  KEY: ( ) = guessed, * = sure, ? = possible\n  ------------------------------------------------\n |(*)                                              | Gnade\n |         ( )                                     | sey\n |         ( )                                     | mit\n |   (*)                                           | euch\n |                  ( )                            | ,\n |      (*)                                        | und\n |         (*)                                     | Friede\n |            (*)                                  | von\n |               (*)                               | Gott\n |                     (*)                         | unserm\n |                        (*)                      | Vater\n |                  ( )       *                    | ,\n |      ( )                      *                 | und\n |                                 (*)             | dem\n |                                    (*)          | Herrn\n |                                       (*)       | Jesu\n |                                          (*)    | Christo\n |                                             (*) | .\n  ------------------------------------------------\n   G  e  u  F  v  G  ,  u  V  ,  u  d  H  J  C  ! \n   n  u  n  r  o  o     n  a     n  e  e  e  h    \n   a  c  d  i  n  t     s  t     d  m  r  s  r    \n   d  h     e     t     e  e           r  u  i    \n   e        d           r  r           n     s    \n            e           m                    t    \n                                             o    \n\n  Alignment 4  KEY: ( ) = guessed, * = sure, ? = possible\n  ---------------------------------------------------------\n |(*)                                                       | Jch\n |   (*)                                                    | danke\n |      (*)                                                 | meinem\n |   ( )    *                                               | Gotte\n |            (*)                                           | allezeit\n |                * ( )                                     | für\n |                *                   ( )                   | euch\n |               ( ) *                                      | wegen\n |                      *       ( )                         | der\n |                        (*)                               | Gnade\n |                           (*)                            | Gottes\n |                              (*)                         | ,\n |                     ( )          *                       | die\n |                                    (*)                   | euch\n |               ( )                            *           | durch\n |               ( )                               *        | Christum\n |               ( )                                  *     | Jesum\n |                                          (*)             | ist\n |                                       ( ) ?              | gegeben\n |               ( )                         ?              | worden\n |                              ( )                      *  | ,\n  ---------------------------------------------------------\n   I  d  m  G  a  e  f  d  G  G  ,  d  e  g  i  i  C  J  , \n   c  a  e  o  l  u  ü  i  n  o     i  u  e  s  n  h  e    \n   h  n  i  t  l  e  r  e  a  t     e  c  g  t     r  s    \n      k  n  t  e  r        d  t        h  e        i  u    \n      e  e     z  t        e  e           b        s       \n         m     e  h           s           e        t       \n               i  a                       n        o       \n               t  l                                        \n                  b                                        \n                  e                                        \n                  n                                        \n\n  Alignment 5  KEY: ( ) = guessed, * = sure, ? = possible\n  ------------------------------------------------------------\n | *                ( )                                        | Daß\n |   (*)                                                       | ihr\n |       *                                              ( )    | durch\n |          *       ( )                                        | ihn\n |      ( )    *                                               | in\n |               (*)                                           | allen\n |               ( ) *                                         | Dingen\n |                              (*)                            | ,\n |      ( )                         *                          | in\n |               ( )                   *                       | allen\n |                  ( )                   *                    | Worten\n |                              ( )                            | ,\n |                                                (*)          | und\n |      ( )                         *                          | in\n |                                                   (*)       | aller\n |                                                      (*)    | Erkenntniß\n |                  (*)                                        | reich\n |                  ( )    *                                   | geworden\n |                           (*)                               | seyd\n |                              ( )                         *  | ,\n  ------------------------------------------------------------\n   d  i  i  i  i  a  r  g  w  s  ,  i  a  W  d  L  u  a  E  , \n   a  h  n  h  n  l  e  e  o  e     n  l  o  e  e  n  l  r    \n   ß  r     m     l  i  m  r  i        l  r  r  h  d  l  k    \n                  e  c  a  d  d        e  t     r     e  e    \n                  m  h  c  e           m        e     r  n    \n                        h  n                             n    \n                        t                                t    \n                                                         n    \n                                                         i    \n                                                         ß    \n\n  Alignment 6  KEY: ( ) = guessed, * = sure, ? = possible\n  ---------------------------------\n | *                   ( )          | Wie\n |   (*)                            | das\n |      (*)                         | Zeugniß\n |          *          ( )          | vom\n |             *       ( )          | Christo\n |                *       ( )       | in\n |                  (*)             | euch\n |                           (*)    | ist\n |                     (*)          | bestätiget\n |                        (*)       | worden\n |                              (*) | .\n  ---------------------------------\n   w  d  Z  d  C  u  e  b  w  i  , \n   i  a  e  e  h  n  u  e  o  s    \n   e  s  u  s  r  t  c  s  r  t    \n         g     i  e  h  t  d       \n         n     s  r     ä  e       \n         i     t        t  n       \n         ß     u        i          \n               s        g          \n                        t          \n\n  Alignment 7  KEY: ( ) = guessed, * = sure, ? = possible\n  ---------------------------------------------------------\n | *                                                 ( )    | Dergestalt\n |                        ( )                               | ,\n |   (*)                                                    | daß\n |                                                   ( )    | es\n |      ( )                                                 | euch\n |                        ( )                               | ,\n |                            *    ( )                      | die\n |      ( )                      *                          | ihr\n |               ( )                                        | auf\n |                                 (*)                      | die\n |                                    (*)                   | Offenbarung\n |                                             (*)          | Jesu\n |                                                (*)       | Christi\n |                                                   (*)    | wartet\n |                        ( )                               | ,\n |          *                                        ( )    | an\n |            (*)                                           | keiner\n |               (*)                                        | Gnade\n |                   *                               ( )    | mangelt\n |                        ( )                            *  | .\n  ---------------------------------------------------------\n   s  d  i  i  k  G  M  h  ,  i  i  d  O  u  H  J  C  e  , \n   o  a  h  n  e  n  a  a     n  h  i  f  n  e  e  h  r    \n      ß  r     i  a  n  b     d  r  e  f  s  r  s  r  w    \n               n  d  g  t     e        e  e  r  u  i  a    \n               e  e  e        m        n  r  n     s  r    \n               r  n  l                 b  s        t  t    \n                  g                    a           i  e    \n                  a                    r              t    \n                  b                    u                   \n                  e                    n                   \n                                       g                   \n\n  Alignment 8  KEY: ( ) = guessed, * = sure, ? = possible\n  ---------------------------------------------------------------------\n | *       ( )                                                          | Der\n |   (*)                                                                | euch\n |      (*)                                                             | auch\n |               (*)                                                    | bis\n |                   *       ( )                                        | zum\n |                           (*)                                        | Ende\n |         (*)                                                          | stärken\n |            (*)                                                       | wird\n |                              (*)                                     | ,\n |         ( )                      *                                   | damit\n |                                    (*)                               | ihr\n |         ( )                                  *                       | am\n |                                                   (*)                | Tage\n |( )                                                                   | der\n |                                       ( )                            | Zukunft\n |                                                      (*)             | unsers\n |                                                         ( )          | Herrn\n |                                                          * ( )       | Jesu\n |                                                               (*)    | Christi\n |                                       (*)                            | unsträflich\n |                                          (*)                         | seyd\n |                                                                  (*) | .\n  ---------------------------------------------------------------------\n   w  e  a  b  w  b  a  '  s  E  ,  d  i  t  s  a  d  T  u  H  J  C  . \n   e  u  u  e  i  i  n        n     a  h  a  e  n  e  a  n  e  e  h    \n   l  c  c  f  r  s           d     ß  r  d  i     m  g  s  r  s  r    \n   c  h  h  e  d              e           e  d        e  e  r  u  i    \n   h        s                             l              r  n     s    \n   e        t                             l              s        t    \n   r        i                             o                       i    \n            g                             s                            \n            e                                                          \n            n                                                          \n\n  Alignment 9  KEY: ( ) = guessed, * = sure, ? = possible\n  ------------------------------------------------------------\n |                                    ( )                      | Denn\n |(*)                                                          | Gott\n |         ( )                                                 | ,\n |            (*)                                              | durch\n |               (*)                                           | welchen\n |                  (*)                                        | ihr\n |         ( )                *                                | zu\n |         ( )                   *                             | der\n |                                 (*)                         | Gemeinschaft\n |                                    (*)                      | seines\n |                                       (*)                   | Sohnes\n |                                                   (*)       | unsers\n |                                                      (*)    | Herrn\n |                                          (*)                | Jesu\n |                                             (*)             | Christi\n |                     ( )                                     | berufen\n |                        (*)                                  | seyd\n |         ( )                                     *           | ,\n |   (*)                                                       | ist\n |      (*)                                                    | getreu\n |                                                         (*) | .\n  ------------------------------------------------------------\n   G  i  t  ,  d  w  i  b  s  i  d  G  s  S  J  C  ,  u  H  . \n   o  s  r     u  e  h  e  e  n  i  e  e  o  e  h     n  e    \n   t  t  e     r  l  r  r  i     e  m  i  h  s  r     s  r    \n   t     u     c  c     u  d        e  n  n  u  i     e  r    \n               h  h     f           i  e  e     s     r  n    \n                  e     e           n  s  s     t     s       \n                  n     n           s           i             \n                                    c                         \n                                    h                         \n                                    a                         \n                                    f                         \n                                    t                         \n\nPrecision = 0.527919\nRecall = 0.634146\nAER = 0.423823\n"
     ]
    }
   ],
   "source": [
    "aligner.align(out = \"./output/de-de_ibm1.a\", n = 10)\n",
    "! ./bin/score-alignments -d \"data/eval/de-de/de_1781_Rosalino-de_1871_Elberfelder/text\"  < ./output/de-de_ibm1.a"
   ]
  },
  {
   "cell_type": "code",
   "execution_count": 46,
   "metadata": {},
   "outputs": [],
   "source": [
    "! echo \"Standard IBM Model 1, DE-DE\" >> ./output/results.info\n",
    "! ./bin/score-alignments -d \"data/eval/de-de/de_1781_Rosalino-de_1871_Elberfelder/text\" -n 0 < ./output/de-de_ibm1.a >> ./output/results.info"
   ]
  },
  {
   "source": [
    "## Method 1: Heuristic Initialization"
   ],
   "cell_type": "markdown",
   "metadata": {}
  },
  {
   "source": [
    "### Install `editdistance` package for a more efficient implementation of edit distance"
   ],
   "cell_type": "markdown",
   "metadata": {}
  },
  {
   "source": [
    "! pip install editdistance"
   ],
   "cell_type": "code",
   "metadata": {},
   "execution_count": 8,
   "outputs": [
    {
     "output_type": "stream",
     "name": "stdout",
     "text": [
      "Requirement already satisfied: editdistance in /Users/siyu/anaconda3/lib/python3.7/site-packages (0.5.3)\n"
     ]
    }
   ]
  },
  {
   "source": [
    "### Training"
   ],
   "cell_type": "markdown",
   "metadata": {}
  },
  {
   "cell_type": "code",
   "execution_count": 12,
   "metadata": {},
   "outputs": [
    {
     "output_type": "stream",
     "name": "stdout",
     "text": [
      "f_vocab_size: 10578\n",
      "e_vocab_size: 10324\n",
      "Using edit distance for heuristic initialization: (one dot represents 1 percent)\n",
      ".....................................................................................................\n",
      "Heuristic initialization completed.\n",
      "EM Training Starting:\n",
      "Iteration 1...\n",
      "Iteration 2...\n",
      "Iteration 3...\n",
      "Iteration 4...\n",
      "Iteration 5...\n"
     ]
    }
   ],
   "source": [
    "aligner1 = ED_Model1(d = \"data/eval/de-de/de_1781_Rosalino-de_1871_Elberfelder/text\", ed_heuristic = True)\n",
    "aligner1.em_training(num_iter = 5)"
   ]
  },
  {
   "source": [
    "### Evaluation"
   ],
   "cell_type": "markdown",
   "metadata": {}
  },
  {
   "cell_type": "code",
   "execution_count": 18,
   "metadata": {
    "tags": [
     "outputPrepend"
    ]
   },
   "outputs": [
    {
     "output_type": "stream",
     "name": "stdout",
     "text": [
      "            *                                                                          | ,\n",
      " |                                                                                                            ( )       | und\n",
      " |                                                ( )                                                                   | denen\n",
      " |         ( )                                                                                                          | ,\n",
      " |            ( )                               *                                                                       | die\n",
      " |                                                (*)                                                                   | berufen\n",
      " |                                                         ( )                                                          | sind\n",
      " |         ( )                                           *                                                              | ,\n",
      " |                              ( )                   *                                                                 | heilig\n",
      " |         ( )                                                                                                          | zu\n",
      " |                                                                           ( )                                        | seyn\n",
      " |         ( )                                                    *                                                     | ,\n",
      " |                                                         (*)                                                          | sammt\n",
      " |                                                            (*)                                                       | allen\n",
      " |         ( )                                                                                                          | ,\n",
      " |            ( )                                                    *                                                  | die\n",
      " |                                                                     (*)                                              | an\n",
      " |                                                            ( )          *                                            | allen\n",
      " |                                                                           (*)                                        | Orten\n",
      " |         ( )                                                                                                          | ,\n",
      " |                                                         ( )                                                          | wo\n",
      " |            ( )                                                             *                                         | sie\n",
      " |                                                                                                            (*)       | und\n",
      " |                                                         ( )                                                    *     | wir\n",
      " |                                                         ( )                                                          | sind\n",
      " |         ( )                                                                                                          | ,\n",
      " |                           ( )                                                    *                                   | den\n",
      " |                                                                                    (*)                               | Namen\n",
      " |                                                                                       (*)                            | unsers\n",
      " |                                                                                          (*)                         | Herrn\n",
      " |                                       ( )                                                    *                       | Jesu\n",
      " |                                                                                                (*)                   | Christi\n",
      " |                                                                              ( )                                     | anrufen\n",
      " |                                                                                                                  (*) | .\n",
      "  ---------------------------------------------------------------------------------------------------------------------\n",
      "   d  V  G  ,  d  i  K  i  ,  d  G  i  C  J  ,  d  b  H  ,  s  a  ,  d  a  a  O  a  d  N  u  H  J  C  ,  b  i  u  u  . \n",
      "   e  e  o     i  n  o  s     e  e  n  h  e     e  e  e     a  l     i  n  l  r  n  e  a  n  e  e  h     e  h  n  n    \n",
      "   r  r  t     e     r  t     n  h     r  s     n  r  i     m  l     e     l  t  r  n  m  s  r  s  r     i  r  d  s    \n",
      "      s  t           i           e     i  u        u  l     t  e           e  e  u     e  e  r  u  i     d  e     e    \n",
      "      a  e           n           i     s           f  i        n           n  n  f     n  r  n     s     e  s     r    \n",
      "      m  s           t           l     t           e  g                          e        s        t     s        s    \n",
      "      m              h           i     o           n  e                          n                 i                   \n",
      "      l                          g                 e  n                                                                \n",
      "      u                          t                 n                                                                   \n",
      "      n                          e                                                                                     \n",
      "      g                          n                                                                                     \n",
      "\n",
      "  Alignment 3  KEY: ( ) = guessed, * = sure, ? = possible\n",
      "  ------------------------------------------------\n",
      " |(*)                                              | Gnade\n",
      " |         ( )                                     | sey\n",
      " |         ( )                                     | mit\n",
      " |   (*)                                           | euch\n",
      " |                  ( )                            | ,\n",
      " |      (*)                                        | und\n",
      " |         (*)                                     | Friede\n",
      " |            (*)                                  | von\n",
      " |               (*)                               | Gott\n",
      " |                     (*)                         | unserm\n",
      " |                        (*)                      | Vater\n",
      " |                  ( )       *                    | ,\n",
      " |      ( )                      *                 | und\n",
      " |                                 (*)             | dem\n",
      " |                                    (*)          | Herrn\n",
      " |                                       (*)       | Jesu\n",
      " |                                          (*)    | Christo\n",
      " |                                             (*) | .\n",
      "  ------------------------------------------------\n",
      "   G  e  u  F  v  G  ,  u  V  ,  u  d  H  J  C  ! \n",
      "   n  u  n  r  o  o     n  a     n  e  e  e  h    \n",
      "   a  c  d  i  n  t     s  t     d  m  r  s  r    \n",
      "   d  h     e     t     e  e           r  u  i    \n",
      "   e        d           r  r           n     s    \n",
      "            e           m                    t    \n",
      "                                             o    \n",
      "\n",
      "  Alignment 4  KEY: ( ) = guessed, * = sure, ? = possible\n",
      "  ---------------------------------------------------------\n",
      " |(*)                                                       | Jch\n",
      " |   (*)                                                    | danke\n",
      " |      (*)                                                 | meinem\n",
      " |   ( )    *                                               | Gotte\n",
      " |            (*)                                           | allezeit\n",
      " |                * ( )                                     | für\n",
      " |                *                   ( )                   | euch\n",
      " |               ( ) *                                      | wegen\n",
      " |                      *                   ( )             | der\n",
      " |                        (*)                               | Gnade\n",
      " |                           (*)                            | Gottes\n",
      " |                              (*)                         | ,\n",
      " |                     ( )          *                       | die\n",
      " |                                    (*)                   | euch\n",
      " |               ( )                            *           | durch\n",
      " |                                                (*)       | Christum\n",
      " |               ( )                                  *     | Jesum\n",
      " |                                          (*)             | ist\n",
      " |                                       ( ) ?              | gegeben\n",
      " |               ( )                         ?              | worden\n",
      " |                              ( )                      *  | ,\n",
      "  ---------------------------------------------------------\n",
      "   I  d  m  G  a  e  f  d  G  G  ,  d  e  g  i  i  C  J  , \n",
      "   c  a  e  o  l  u  ü  i  n  o     i  u  e  s  n  h  e    \n",
      "   h  n  i  t  l  e  r  e  a  t     e  c  g  t     r  s    \n",
      "      k  n  t  e  r        d  t        h  e        i  u    \n",
      "      e  e     z  t        e  e           b        s       \n",
      "         m     e  h           s           e        t       \n",
      "               i  a                       n        o       \n",
      "               t  l                                        \n",
      "                  b                                        \n",
      "                  e                                        \n",
      "                  n                                        \n",
      "\n",
      "  Alignment 5  KEY: ( ) = guessed, * = sure, ? = possible\n",
      "  ------------------------------------------------------------\n",
      " | *                ( )                                        | Daß\n",
      " |   (*)                                                       | ihr\n",
      " |       *             ( )                                     | durch\n",
      " |         (*)                                                 | ihn\n",
      " |      ( )    *                                               | in\n",
      " |               (*)                                           | allen\n",
      " |               ( ) *                                         | Dingen\n",
      " |                              (*)                            | ,\n",
      " |      ( )                         *                          | in\n",
      " |               ( )                   *                       | allen\n",
      " |               ( )                      *                    | Worten\n",
      " |                              ( )                            | ,\n",
      " |                                                (*)          | und\n",
      " |      ( )                         *                          | in\n",
      " |                                                   (*)       | aller\n",
      " |                                                      (*)    | Erkenntniß\n",
      " |                  (*)                                        | reich\n",
      " |                        (*)                                  | geworden\n",
      " |                           (*)                               | seyd\n",
      " |                              ( )                         *  | ,\n",
      "  ------------------------------------------------------------\n",
      "   d  i  i  i  i  a  r  g  w  s  ,  i  a  W  d  L  u  a  E  , \n",
      "   a  h  n  h  n  l  e  e  o  e     n  l  o  e  e  n  l  r    \n",
      "   ß  r     m     l  i  m  r  i        l  r  r  h  d  l  k    \n",
      "                  e  c  a  d  d        e  t     r     e  e    \n",
      "                  m  h  c  e           m        e     r  n    \n",
      "                        h  n                             n    \n",
      "                        t                                t    \n",
      "                                                         n    \n",
      "                                                         i    \n",
      "                                                         ß    \n",
      "\n",
      "  Alignment 6  KEY: ( ) = guessed, * = sure, ? = possible\n",
      "  ---------------------------------\n",
      " | *                   ( )          | Wie\n",
      " |   (*)                            | das\n",
      " |      (*)                         | Zeugniß\n",
      " |          *          ( )          | vom\n",
      " |            (*)                   | Christo\n",
      " |                *       ( )       | in\n",
      " |                  (*)             | euch\n",
      " |                           (*)    | ist\n",
      " |                     (*)          | bestätiget\n",
      " |                        (*)       | worden\n",
      " |                              (*) | .\n",
      "  ---------------------------------\n",
      "   w  d  Z  d  C  u  e  b  w  i  , \n",
      "   i  a  e  e  h  n  u  e  o  s    \n",
      "   e  s  u  s  r  t  c  s  r  t    \n",
      "         g     i  e  h  t  d       \n",
      "         n     s  r     ä  e       \n",
      "         i     t        t  n       \n",
      "         ß     u        i          \n",
      "               s        g          \n",
      "                        t          \n",
      "\n",
      "  Alignment 7  KEY: ( ) = guessed, * = sure, ? = possible\n",
      "  ---------------------------------------------------------\n",
      " | *                                                 ( )    | Dergestalt\n",
      " |                        ( )                               | ,\n",
      " |   (*)                                                    | daß\n",
      " |( )                                                       | es\n",
      " |                     ( )                                  | euch\n",
      " |                        ( )                               | ,\n",
      " |                            *    ( )                      | die\n",
      " |      ( )                      *                          | ihr\n",
      " |                  ( )                                     | auf\n",
      " |                                 (*)                      | die\n",
      " |                                    (*)                   | Offenbarung\n",
      " |                                             (*)          | Jesu\n",
      " |                                                (*)       | Christi\n",
      " |                                                   (*)    | wartet\n",
      " |                        ( )                               | ,\n",
      " |          *                                        ( )    | an\n",
      " |            (*)                                           | keiner\n",
      " |               (*)                                        | Gnade\n",
      " |                   *                               ( )    | mangelt\n",
      " |                        ( )                            *  | .\n",
      "  ---------------------------------------------------------\n",
      "   s  d  i  i  k  G  M  h  ,  i  i  d  O  u  H  J  C  e  , \n",
      "   o  a  h  n  e  n  a  a     n  h  i  f  n  e  e  h  r    \n",
      "      ß  r     i  a  n  b     d  r  e  f  s  r  s  r  w    \n",
      "               n  d  g  t     e        e  e  r  u  i  a    \n",
      "               e  e  e        m        n  r  n     s  r    \n",
      "               r  n  l                 b  s        t  t    \n",
      "                  g                    a           i  e    \n",
      "                  a                    r              t    \n",
      "                  b                    u                   \n",
      "                  e                    n                   \n",
      "                                       g                   \n",
      "\n",
      "  Alignment 8  KEY: ( ) = guessed, * = sure, ? = possible\n",
      "  ---------------------------------------------------------------------\n",
      " |(*)                                                                   | Der\n",
      " |   (*)                                                                | euch\n",
      " |      (*)                                                             | auch\n",
      " |               (*)                                                    | bis\n",
      " |                   *       ( )                                        | zum\n",
      " |                           (*)                                        | Ende\n",
      " |         (*)                                                          | stärken\n",
      " |            (*)                                                       | wird\n",
      " |                              (*)                                     | ,\n",
      " |                                 (*)                                  | damit\n",
      " |                                    (*)                               | ihr\n",
      " |                                       ( )    *                       | am\n",
      " |                                                   (*)                | Tage\n",
      " |( )                                                                   | der\n",
      " |                                       ( )                            | Zukunft\n",
      " |                                                      (*)             | unsers\n",
      " |                                                         ( )          | Herrn\n",
      " |                                                          * ( )       | Jesu\n",
      " |                                                               (*)    | Christi\n",
      " |                                       (*)                            | unsträflich\n",
      " |                                          (*)                         | seyd\n",
      " |                                                                  (*) | .\n",
      "  ---------------------------------------------------------------------\n",
      "   w  e  a  b  w  b  a  '  s  E  ,  d  i  t  s  a  d  T  u  H  J  C  . \n",
      "   e  u  u  e  i  i  n        n     a  h  a  e  n  e  a  n  e  e  h    \n",
      "   l  c  c  f  r  s           d     ß  r  d  i     m  g  s  r  s  r    \n",
      "   c  h  h  e  d              e           e  d        e  e  r  u  i    \n",
      "   h        s                             l              r  n     s    \n",
      "   e        t                             l              s        t    \n",
      "   r        i                             o                       i    \n",
      "            g                             s                            \n",
      "            e                                                          \n",
      "            n                                                          \n",
      "\n",
      "  Alignment 9  KEY: ( ) = guessed, * = sure, ? = possible\n",
      "  ------------------------------------------------------------\n",
      " |      ( )                                                    | Denn\n",
      " |(*)                                                          | Gott\n",
      " |         ( )                                                 | ,\n",
      " |            (*)                                              | durch\n",
      " |               (*)                                           | welchen\n",
      " |                  (*)                                        | ihr\n",
      " |         ( )                *                                | zu\n",
      " |            ( )                *                             | der\n",
      " |                                 (*)                         | Gemeinschaft\n",
      " |                                    (*)                      | seines\n",
      " |                                       (*)                   | Sohnes\n",
      " |                                                   (*)       | unsers\n",
      " |                                                      (*)    | Herrn\n",
      " |                                          (*)                | Jesu\n",
      " |                                             (*)             | Christi\n",
      " |                     ( )                                     | berufen\n",
      " |                        (*)                                  | seyd\n",
      " |         ( )                                     *           | ,\n",
      " |   (*)                                                       | ist\n",
      " |      (*)                                                    | getreu\n",
      " |                                                         (*) | .\n",
      "  ------------------------------------------------------------\n",
      "   G  i  t  ,  d  w  i  b  s  i  d  G  s  S  J  C  ,  u  H  . \n",
      "   o  s  r     u  e  h  e  e  n  i  e  e  o  e  h     n  e    \n",
      "   t  t  e     r  l  r  r  i     e  m  i  h  s  r     s  r    \n",
      "   t     u     c  c     u  d        e  n  n  u  i     e  r    \n",
      "               h  h     f           i  e  e     s     r  n    \n",
      "                  e     e           n  s  s     t     s       \n",
      "                  n     n           s           i             \n",
      "                                    c                         \n",
      "                                    h                         \n",
      "                                    a                         \n",
      "                                    f                         \n",
      "                                    t                         \n",
      "\n",
      "Precision = 0.563452\n",
      "Recall = 0.676829\n",
      "AER = 0.385042\n"
     ]
    }
   ],
   "source": [
    "aligner1.align(out = \"./output/de-de_ed1.a\", n = 10)\n",
    "! ./bin/score-alignments -d \"data/eval/de-de/de_1781_Rosalino-de_1871_Elberfelder/text\"  < ./output/de-de_ed1.a"
   ]
  },
  {
   "cell_type": "code",
   "execution_count": 47,
   "metadata": {},
   "outputs": [],
   "source": [
    "! echo \"\\nModel 1 with ED Heuristic, DE-DE\" >> ./output/results.info\n",
    "! ./bin/score-alignments -d \"data/eval/de-de/de_1781_Rosalino-de_1871_Elberfelder/text\" -n 0 < ./output/de-de_ed1.a >> ./output/results.info"
   ]
  },
  {
   "source": [
    "## Method 2: Modified Decoding Algorithm"
   ],
   "cell_type": "markdown",
   "metadata": {}
  },
  {
   "source": [
    "### Training"
   ],
   "cell_type": "markdown",
   "metadata": {}
  },
  {
   "source": [
    "aligner2 = ED_Model1(d = \"data/eval/de-de/de_1781_Rosalino-de_1871_Elberfelder/text\", ed_decode = True)\n",
    "aligner2.em_training(num_iter = 5)"
   ],
   "cell_type": "code",
   "metadata": {},
   "execution_count": 10,
   "outputs": [
    {
     "output_type": "stream",
     "name": "stdout",
     "text": [
      "f_vocab_size: 10578\n",
      "e_vocab_size: 10324\n",
      "EM Training Starting:\n",
      "Iteration 1...\n",
      "Iteration 2...\n",
      "Iteration 3...\n",
      "Iteration 4...\n",
      "Iteration 5...\n"
     ]
    }
   ]
  },
  {
   "source": [
    "### Evaluation"
   ],
   "cell_type": "markdown",
   "metadata": {}
  },
  {
   "cell_type": "code",
   "execution_count": 19,
   "metadata": {
    "tags": [
     "outputPrepend"
    ]
   },
   "outputs": [
    {
     "output_type": "stream",
     "name": "stdout",
     "text": [
      "            *                                                                          | ,\n",
      " |                                                                                                            ( )       | und\n",
      " |                                                         ( )                                                          | denen\n",
      " |         ( )                                                                                                          | ,\n",
      " |            ( )                               *                                                                       | die\n",
      " |                                                (*)                                                                   | berufen\n",
      " |                                                ( )                                                                   | sind\n",
      " |         ( )                                           *                                                              | ,\n",
      " |                              ( )                   *                                                                 | heilig\n",
      " |                  ( )                                                                                                 | zu\n",
      " |                                                                           ( )                                        | seyn\n",
      " |         ( )                                                    *                                                     | ,\n",
      " |                                                         (*)                                                          | sammt\n",
      " |                                                            (*)                                                       | allen\n",
      " |         ( )                                                                                                          | ,\n",
      " |            ( )                                                    *                                                  | die\n",
      " |                                                                     (*)                                              | an\n",
      " |                                                            ( )          *                                            | allen\n",
      " |                                                                           (*)                                        | Orten\n",
      " |         ( )                                                                                                          | ,\n",
      " |                              ( )                                                                                     | wo\n",
      " |            ( )                                                             *                                         | sie\n",
      " |                                                                                                            (*)       | und\n",
      " |                                                         ( )                                                    *     | wir\n",
      " |                                                ( )                                                                   | sind\n",
      " |         ( )                                                                                                          | ,\n",
      " |                           ( )                                                    *                                   | den\n",
      " |                                                                                    (*)                               | Namen\n",
      " |                                                                                       (*)                            | unsers\n",
      " |                                                                                          (*)                         | Herrn\n",
      " |                                       ( )                                                    *                       | Jesu\n",
      " |                                                                                                (*)                   | Christi\n",
      " |                                                                              ( )                                     | anrufen\n",
      " |                                                                                                                  (*) | .\n",
      "  ---------------------------------------------------------------------------------------------------------------------\n",
      "   d  V  G  ,  d  i  K  i  ,  d  G  i  C  J  ,  d  b  H  ,  s  a  ,  d  a  a  O  a  d  N  u  H  J  C  ,  b  i  u  u  . \n",
      "   e  e  o     i  n  o  s     e  e  n  h  e     e  e  e     a  l     i  n  l  r  n  e  a  n  e  e  h     e  h  n  n    \n",
      "   r  r  t     e     r  t     n  h     r  s     n  r  i     m  l     e     l  t  r  n  m  s  r  s  r     i  r  d  s    \n",
      "      s  t           i           e     i  u        u  l     t  e           e  e  u     e  e  r  u  i     d  e     e    \n",
      "      a  e           n           i     s           f  i        n           n  n  f     n  r  n     s     e  s     r    \n",
      "      m  s           t           l     t           e  g                          e        s        t     s        s    \n",
      "      m              h           i     o           n  e                          n                 i                   \n",
      "      l                          g                 e  n                                                                \n",
      "      u                          t                 n                                                                   \n",
      "      n                          e                                                                                     \n",
      "      g                          n                                                                                     \n",
      "\n",
      "  Alignment 3  KEY: ( ) = guessed, * = sure, ? = possible\n",
      "  ------------------------------------------------\n",
      " |(*)                                              | Gnade\n",
      " |         ( )                                     | sey\n",
      " |         ( )                                     | mit\n",
      " |   (*)                                           | euch\n",
      " |                  ( )                            | ,\n",
      " |      (*)                                        | und\n",
      " |         (*)                                     | Friede\n",
      " |            (*)                                  | von\n",
      " |               (*)                               | Gott\n",
      " |                     (*)                         | unserm\n",
      " |                        (*)                      | Vater\n",
      " |                  ( )       *                    | ,\n",
      " |      ( )                      *                 | und\n",
      " |                                 (*)             | dem\n",
      " |                                    (*)          | Herrn\n",
      " |                                       (*)       | Jesu\n",
      " |                                          (*)    | Christo\n",
      " |                                             (*) | .\n",
      "  ------------------------------------------------\n",
      "   G  e  u  F  v  G  ,  u  V  ,  u  d  H  J  C  ! \n",
      "   n  u  n  r  o  o     n  a     n  e  e  e  h    \n",
      "   a  c  d  i  n  t     s  t     d  m  r  s  r    \n",
      "   d  h     e     t     e  e           r  u  i    \n",
      "   e        d           r  r           n     s    \n",
      "            e           m                    t    \n",
      "                                             o    \n",
      "\n",
      "  Alignment 4  KEY: ( ) = guessed, * = sure, ? = possible\n",
      "  ---------------------------------------------------------\n",
      " |(*)                                                       | Jch\n",
      " |   (*)                                                    | danke\n",
      " |      (*)                                                 | meinem\n",
      " |   ( )    *                                               | Gotte\n",
      " |            (*)                                           | allezeit\n",
      " |                * ( )                                     | für\n",
      " |                *                   ( )                   | euch\n",
      " |               ( ) *                                      | wegen\n",
      " |                      *       ( )                         | der\n",
      " |                        (*)                               | Gnade\n",
      " |                           (*)                            | Gottes\n",
      " |                              (*)                         | ,\n",
      " |                     ( )          *                       | die\n",
      " |                                    (*)                   | euch\n",
      " |               ( )                            *           | durch\n",
      " |               ( )                               *        | Christum\n",
      " |               ( )                                  *     | Jesum\n",
      " |                                          (*)             | ist\n",
      " |                                       ( ) ?              | gegeben\n",
      " |               ( )                         ?              | worden\n",
      " |                              ( )                      *  | ,\n",
      "  ---------------------------------------------------------\n",
      "   I  d  m  G  a  e  f  d  G  G  ,  d  e  g  i  i  C  J  , \n",
      "   c  a  e  o  l  u  ü  i  n  o     i  u  e  s  n  h  e    \n",
      "   h  n  i  t  l  e  r  e  a  t     e  c  g  t     r  s    \n",
      "      k  n  t  e  r        d  t        h  e        i  u    \n",
      "      e  e     z  t        e  e           b        s       \n",
      "         m     e  h           s           e        t       \n",
      "               i  a                       n        o       \n",
      "               t  l                                        \n",
      "                  b                                        \n",
      "                  e                                        \n",
      "                  n                                        \n",
      "\n",
      "  Alignment 5  KEY: ( ) = guessed, * = sure, ? = possible\n",
      "  ------------------------------------------------------------\n",
      " | *                ( )                                        | Daß\n",
      " |   (*)                                                       | ihr\n",
      " |       *             ( )                                     | durch\n",
      " |         (*)                                                 | ihn\n",
      " |      ( )    *                                               | in\n",
      " |               (*)                                           | allen\n",
      " |               ( ) *                                         | Dingen\n",
      " |                              (*)                            | ,\n",
      " |      ( )                         *                          | in\n",
      " |               ( )                   *                       | allen\n",
      " |                  ( )                   *                    | Worten\n",
      " |                              ( )                            | ,\n",
      " |                                                (*)          | und\n",
      " |      ( )                         *                          | in\n",
      " |                                                   (*)       | aller\n",
      " |                                                      (*)    | Erkenntniß\n",
      " |                  (*)                                        | reich\n",
      " |                  ( )    *                                   | geworden\n",
      " |                           (*)                               | seyd\n",
      " |                              ( )                         *  | ,\n",
      "  ------------------------------------------------------------\n",
      "   d  i  i  i  i  a  r  g  w  s  ,  i  a  W  d  L  u  a  E  , \n",
      "   a  h  n  h  n  l  e  e  o  e     n  l  o  e  e  n  l  r    \n",
      "   ß  r     m     l  i  m  r  i        l  r  r  h  d  l  k    \n",
      "                  e  c  a  d  d        e  t     r     e  e    \n",
      "                  m  h  c  e           m        e     r  n    \n",
      "                        h  n                             n    \n",
      "                        t                                t    \n",
      "                                                         n    \n",
      "                                                         i    \n",
      "                                                         ß    \n",
      "\n",
      "  Alignment 6  KEY: ( ) = guessed, * = sure, ? = possible\n",
      "  ---------------------------------\n",
      " | *                   ( )          | Wie\n",
      " |   (*)                            | das\n",
      " |      (*)                         | Zeugniß\n",
      " |          *          ( )          | vom\n",
      " |             *       ( )          | Christo\n",
      " |                *             ( ) | in\n",
      " |                  (*)             | euch\n",
      " |                           (*)    | ist\n",
      " |                     (*)          | bestätiget\n",
      " |                        (*)       | worden\n",
      " |                              (*) | .\n",
      "  ---------------------------------\n",
      "   w  d  Z  d  C  u  e  b  w  i  , \n",
      "   i  a  e  e  h  n  u  e  o  s    \n",
      "   e  s  u  s  r  t  c  s  r  t    \n",
      "         g     i  e  h  t  d       \n",
      "         n     s  r     ä  e       \n",
      "         i     t        t  n       \n",
      "         ß     u        i          \n",
      "               s        g          \n",
      "                        t          \n",
      "\n",
      "  Alignment 7  KEY: ( ) = guessed, * = sure, ? = possible\n",
      "  ---------------------------------------------------------\n",
      " | *                                                 ( )    | Dergestalt\n",
      " |                        ( )                               | ,\n",
      " |   (*)                                                    | daß\n",
      " |( )                                                       | es\n",
      " |      ( )                                                 | euch\n",
      " |                        ( )                               | ,\n",
      " |                            *    ( )                      | die\n",
      " |      ( )                      *                          | ihr\n",
      " |               ( )                                        | auf\n",
      " |                                 (*)                      | die\n",
      " |                                    (*)                   | Offenbarung\n",
      " |                                             (*)          | Jesu\n",
      " |                                                (*)       | Christi\n",
      " |                                                   (*)    | wartet\n",
      " |                        ( )                               | ,\n",
      " |          *                                        ( )    | an\n",
      " |            (*)                                           | keiner\n",
      " |               (*)                                        | Gnade\n",
      " |                   *                               ( )    | mangelt\n",
      " |                        ( )                            *  | .\n",
      "  ---------------------------------------------------------\n",
      "   s  d  i  i  k  G  M  h  ,  i  i  d  O  u  H  J  C  e  , \n",
      "   o  a  h  n  e  n  a  a     n  h  i  f  n  e  e  h  r    \n",
      "      ß  r     i  a  n  b     d  r  e  f  s  r  s  r  w    \n",
      "               n  d  g  t     e        e  e  r  u  i  a    \n",
      "               e  e  e        m        n  r  n     s  r    \n",
      "               r  n  l                 b  s        t  t    \n",
      "                  g                    a           i  e    \n",
      "                  a                    r              t    \n",
      "                  b                    u                   \n",
      "                  e                    n                   \n",
      "                                       g                   \n",
      "\n",
      "  Alignment 8  KEY: ( ) = guessed, * = sure, ? = possible\n",
      "  ---------------------------------------------------------------------\n",
      " | *       ( )                                                          | Der\n",
      " |   (*)                                                                | euch\n",
      " |      (*)                                                             | auch\n",
      " |               (*)                                                    | bis\n",
      " |                   *       ( )                                        | zum\n",
      " |                           (*)                                        | Ende\n",
      " |         (*)                                                          | stärken\n",
      " |            (*)                                                       | wird\n",
      " |                              (*)                                     | ,\n",
      " |                                 (*)                                  | damit\n",
      " |                                    (*)                               | ihr\n",
      " |                                       ( )    *                       | am\n",
      " |                                                   (*)                | Tage\n",
      " |( )                                                                   | der\n",
      " |                                       ( )                            | Zukunft\n",
      " |                                                      (*)             | unsers\n",
      " |                                                         ( )          | Herrn\n",
      " |                                                          * ( )       | Jesu\n",
      " |                                                               (*)    | Christi\n",
      " |                                       (*)                            | unsträflich\n",
      " |                                          (*)                         | seyd\n",
      " |                                                                  (*) | .\n",
      "  ---------------------------------------------------------------------\n",
      "   w  e  a  b  w  b  a  '  s  E  ,  d  i  t  s  a  d  T  u  H  J  C  . \n",
      "   e  u  u  e  i  i  n        n     a  h  a  e  n  e  a  n  e  e  h    \n",
      "   l  c  c  f  r  s           d     ß  r  d  i     m  g  s  r  s  r    \n",
      "   c  h  h  e  d              e           e  d        e  e  r  u  i    \n",
      "   h        s                             l              r  n     s    \n",
      "   e        t                             l              s        t    \n",
      "   r        i                             o                       i    \n",
      "            g                             s                            \n",
      "            e                                                          \n",
      "            n                                                          \n",
      "\n",
      "  Alignment 9  KEY: ( ) = guessed, * = sure, ? = possible\n",
      "  ------------------------------------------------------------\n",
      " |                                    ( )                      | Denn\n",
      " |(*)                                                          | Gott\n",
      " |         ( )                                                 | ,\n",
      " |            (*)                                              | durch\n",
      " |               (*)                                           | welchen\n",
      " |                  (*)                                        | ihr\n",
      " |         ( )                *                                | zu\n",
      " |         ( )                   *                             | der\n",
      " |                                 (*)                         | Gemeinschaft\n",
      " |                                    (*)                      | seines\n",
      " |                                       (*)                   | Sohnes\n",
      " |                                                   (*)       | unsers\n",
      " |                                                      (*)    | Herrn\n",
      " |                                          (*)                | Jesu\n",
      " |                                             (*)             | Christi\n",
      " |                     ( )                                     | berufen\n",
      " |                        (*)                                  | seyd\n",
      " |         ( )                                     *           | ,\n",
      " |   (*)                                                       | ist\n",
      " |      (*)                                                    | getreu\n",
      " |                                                         (*) | .\n",
      "  ------------------------------------------------------------\n",
      "   G  i  t  ,  d  w  i  b  s  i  d  G  s  S  J  C  ,  u  H  . \n",
      "   o  s  r     u  e  h  e  e  n  i  e  e  o  e  h     n  e    \n",
      "   t  t  e     r  l  r  r  i     e  m  i  h  s  r     s  r    \n",
      "   t     u     c  c     u  d        e  n  n  u  i     e  r    \n",
      "               h  h     f           i  e  e     s     r  n    \n",
      "                  e     e           n  s  s     t     s       \n",
      "                  n     n           s           i             \n",
      "                                    c                         \n",
      "                                    h                         \n",
      "                                    a                         \n",
      "                                    f                         \n",
      "                                    t                         \n",
      "\n",
      "Precision = 0.543147\n",
      "Recall = 0.652439\n",
      "AER = 0.407202\n"
     ]
    }
   ],
   "source": [
    "aligner2.align(out = \"./output/de-de_ed2.a\", n = 10)\n",
    "! ./bin/score-alignments -d \"data/eval/de-de/de_1781_Rosalino-de_1871_Elberfelder/text\"  < ./output/de-de_ed2.a"
   ]
  },
  {
   "cell_type": "code",
   "execution_count": 48,
   "metadata": {},
   "outputs": [],
   "source": [
    "! echo \"\\nModel 1 with ED Decoding, DE-DE\" >> ./output/results.info\n",
    "! ./bin/score-alignments -d \"data/eval/de-de/de_1781_Rosalino-de_1871_Elberfelder/text\" -n 0 < ./output/de-de_ed2.a >> ./output/results.info"
   ]
  }
 ]
}